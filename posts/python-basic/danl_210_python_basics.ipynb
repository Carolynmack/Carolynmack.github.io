{
  "cells": [
    {
      "cell_type": "markdown",
      "id": "99a2c4ce",
      "metadata": {
        "id": "99a2c4ce"
      },
      "source": [
        "---\n",
        "title: \"Python Basics\"\n",
        "author: \"Carolyn Mack\"\n",
        "date: \"2025-02-07\"\n",
        "categories: [python]\n",
        "image: image.png\n",
        "  \n",
        "toc: true\n",
        "\n",
        "---"
      ]
    },
    {
      "cell_type": "markdown",
      "id": "d888a05d",
      "metadata": {
        "id": "d888a05d"
      },
      "source": [
        "# Introduction to Python"
      ]
    },
    {
      "cell_type": "markdown",
      "id": "4ced8e71",
      "metadata": {
        "id": "4ced8e71"
      },
      "source": [
        "## What is Python?"
      ]
    },
    {
      "cell_type": "markdown",
      "id": "H9PipRWtEsfO",
      "metadata": {
        "id": "H9PipRWtEsfO"
      },
      "source": [
        "Python is a high-level, interpreted programming language. This is a simple Python code:"
      ]
    },
    {
      "cell_type": "code",
      "execution_count": null,
      "id": "834bc383",
      "metadata": {
        "id": "834bc383"
      },
      "outputs": [],
      "source": [
        "print('Hello, World!')"
      ]
    },
    {
      "cell_type": "markdown",
      "id": "39f9fb03",
      "metadata": {
        "id": "39f9fb03"
      },
      "source": [
        "## Variables and Data Types"
      ]
    },
    {
      "cell_type": "markdown",
      "id": "ld1HKQ0XEvx3",
      "metadata": {
        "id": "ld1HKQ0XEvx3"
      },
      "source": [
        "In Python, variables can store data of different types without explicitly declaring the type.\n",
        "\n",
        "For example:"
      ]
    },
    {
      "cell_type": "code",
      "execution_count": null,
      "id": "e6744d1e",
      "metadata": {
        "colab": {
          "base_uri": "https://localhost:8080/"
        },
        "id": "e6744d1e",
        "outputId": "371456e1-bf0f-448f-ae8d-70c4354ce310"
      },
      "outputs": [
        {
          "data": {
            "text/plain": [
              "10.5"
            ]
          },
          "execution_count": 1,
          "metadata": {},
          "output_type": "execute_result"
        }
      ],
      "source": [
        "integer_variable = 10\n",
        "string_variable = 'Hello'\n",
        "float_variable = 10.5\n",
        "\n",
        "float_variable"
      ]
    },
    {
      "cell_type": "markdown",
      "id": "d01ba669",
      "metadata": {
        "id": "d01ba669"
      },
      "source": [
        "## Control Structures"
      ]
    },
    {
      "cell_type": "markdown",
      "id": "wMeC8exAE2Bv",
      "metadata": {
        "id": "wMeC8exAE2Bv"
      },
      "source": [
        "Python supports the usual logical conditions from mathematics:\n",
        "\n",
        "An Important thing to note is the use of =\n",
        "\n",
        "= is an Assignment operator and NOT an equal sign\n",
        "\n",
        "= will assign the value on the right side to the varaible on the left side.\n"
      ]
    },
    {
      "cell_type": "code",
      "execution_count": null,
      "id": "f74e2029",
      "metadata": {
        "id": "f74e2029"
      },
      "outputs": [],
      "source": [
        "# Equals: a == b\n",
        "# Not Equals: a != b\n",
        "# Less than: a < b\n",
        "# Less than or equal to: a <= b\n",
        "# Greater than: a > b\n",
        "# Greater than or equal to: a >= b\n"
      ]
    },
    {
      "cell_type": "markdown",
      "source": [
        "Different Data Types:\n",
        "\n",
        "\n",
        "*   integers ex: 10\n",
        "*   floats ex: 8.902\n",
        "*   strings ex: \"SUNY Geneseo\"\n",
        "*   booleans ex: True, False\n",
        "*   Nothing ex: None\n",
        "*   List ex: [\"apple\", \"pear\", \"orange\", \"kiwi\"]\n",
        "    -lists are more useful bc they are mutable\n",
        "*   Tuple ex: (\"apple\", \"pear\", \"orange\", \"kiwi\")\n",
        "    -similar to lists but NOT mutable.\n",
        "\n",
        "\n",
        "\n",
        "\n"
      ],
      "metadata": {
        "id": "Thc9ieQEdKAZ"
      },
      "id": "Thc9ieQEdKAZ"
    },
    {
      "cell_type": "code",
      "source": [
        "10 == 20\n",
        "10 =='10' #comparing an int to a string\n",
        "# == is checking if both sides have the same value --> Boolean Expression, T or F"
      ],
      "metadata": {
        "colab": {
          "base_uri": "https://localhost:8080/"
        },
        "id": "UfzZhDwEdu4W",
        "outputId": "28ba0534-87bb-4643-f21b-8623e3533bcb"
      },
      "id": "UfzZhDwEdu4W",
      "execution_count": 1,
      "outputs": [
        {
          "output_type": "execute_result",
          "data": {
            "text/plain": [
              "False"
            ]
          },
          "metadata": {},
          "execution_count": 1
        }
      ]
    },
    {
      "cell_type": "code",
      "source": [],
      "metadata": {
        "id": "Rcf_LIW7c5yC"
      },
      "id": "Rcf_LIW7c5yC",
      "execution_count": null,
      "outputs": []
    },
    {
      "cell_type": "markdown",
      "source": [
        "##Operators\n",
        "  +additon\n",
        "\n",
        "  -subtraction\n",
        "\n",
        "  *multiplication\n",
        "\n",
        "  **powers\n",
        "\n",
        "  /division\n",
        "\n",
        "  //integer division\n",
        "\n",
        "  "
      ],
      "metadata": {
        "id": "q-yMPBw7eh2h"
      },
      "id": "q-yMPBw7eh2h"
    },
    {
      "cell_type": "code",
      "source": [
        "#CW 4.1\n",
        "\n",
        "2**5/(7*(4-2**3))"
      ],
      "metadata": {
        "colab": {
          "base_uri": "https://localhost:8080/"
        },
        "id": "IDINMSuwfAP8",
        "outputId": "ba76985b-8654-4765-9ec5-1bd14d698e47"
      },
      "id": "IDINMSuwfAP8",
      "execution_count": 2,
      "outputs": [
        {
          "output_type": "execute_result",
          "data": {
            "text/plain": [
              "-1.1428571428571428"
            ]
          },
          "metadata": {},
          "execution_count": 2
        }
      ]
    },
    {
      "cell_type": "markdown",
      "id": "T0RPCSNhE88q",
      "metadata": {
        "id": "T0RPCSNhE88q"
      },
      "source": [
        "These conditions can be used in several ways, most commonly in 'if statements' and loops.\n",
        "\n",
        "If statements are used for giving a result if certain condition is ture"
      ]
    },
    {
      "cell_type": "code",
      "execution_count": null,
      "id": "WqMXB9zXE6rB",
      "metadata": {
        "id": "WqMXB9zXE6rB"
      },
      "outputs": [],
      "source": [
        "# if statement:\n",
        "if 5 > 2:\n",
        "    print('Five is greater than two!')\n",
        ""
      ]
    },
    {
      "cell_type": "code",
      "source": [
        "score = 98\n",
        "\n",
        "if score == 100:\n",
        "    print(\"Top marks!\")\n",
        "elif score > 90 and score < 100:\n",
        "    print(\"High score!\")\n",
        "elif score > 10 and score <= 90:\n",
        "    pass\n",
        "else:\n",
        "    print(\"Better luck next time.\")"
      ],
      "metadata": {
        "colab": {
          "base_uri": "https://localhost:8080/"
        },
        "id": "JMWkXHeyiqgR",
        "outputId": "73f774b1-2273-4ab0-d5a9-aa13d435a4b5"
      },
      "id": "JMWkXHeyiqgR",
      "execution_count": 4,
      "outputs": [
        {
          "output_type": "stream",
          "name": "stdout",
          "text": [
            "High score!\n"
          ]
        }
      ]
    },
    {
      "cell_type": "markdown",
      "id": "d4d8f434",
      "metadata": {
        "id": "d4d8f434"
      },
      "source": [
        "## Functions"
      ]
    },
    {
      "cell_type": "markdown",
      "id": "_c3f-aluFEJH",
      "metadata": {
        "id": "_c3f-aluFEJH"
      },
      "source": [
        "A function is a block of code which only runs when it is called.\n",
        "\n",
        "You can pass data, known as parameters, into a function.\n",
        "\n",
        "A function can return data as a result.\n",
        "\n"
      ]
    },
    {
      "cell_type": "code",
      "execution_count": null,
      "id": "311db165",
      "metadata": {
        "id": "311db165"
      },
      "outputs": [],
      "source": [
        "# Defining a function:\n",
        "def my_function():\n",
        "    print('Hello from a function')\n",
        "\n",
        "# Calling a function:\n",
        "my_function()"
      ]
    },
    {
      "cell_type": "markdown",
      "id": "e759a298",
      "metadata": {
        "id": "e759a298"
      },
      "source": [
        "## Lists and Dictionaries"
      ]
    },
    {
      "cell_type": "markdown",
      "id": "rVrAVX_gFQ1t",
      "metadata": {
        "id": "rVrAVX_gFQ1t"
      },
      "source": [
        "A list is a collection which is ordered and changeable.\n",
        "\n",
        "A dictionary is a collection which is unordered, changeable and indexed."
      ]
    },
    {
      "cell_type": "code",
      "execution_count": null,
      "id": "58d29398",
      "metadata": {
        "id": "58d29398"
      },
      "outputs": [],
      "source": [
        "# List example:\n",
        "my_list = ['apple', 'banana', 'cherry']\n",
        "\n",
        "# Dictionary example:\n",
        "my_dict = {'name': 'John', 'age': 36}"
      ]
    },
    {
      "cell_type": "markdown",
      "source": [
        "##List Comprehension:\n",
        "A concise way to create or modify lists\n",
        "\n",
        "Syntax: [expression for item in iterable if condition]\n",
        "\n",
        "ex: squares = [x**2 for x in range(5)]\n",
        "\n",
        "##Dictionary Comprehension:\n",
        "\n",
        "A consicse way to create or modify dictionaries\n",
        "\n",
        "Syntax: {key_expression: value_expression for item in iterable if condition}\n",
        "\n",
        "ex: squares_dict = {x: x**2 for x in range(5)}"
      ],
      "metadata": {
        "id": "QACtXd4Fs60j"
      },
      "id": "QACtXd4Fs60j"
    },
    {
      "cell_type": "markdown",
      "source": [
        "# Ways to Modify a List:\n",
        "\n",
        "- append() : adds item to end of list\n",
        "- remove() : Deletes first occurrence of val in list\n",
        "\n",
        "- del : deletes and item by index or a sice of items\n",
        "\n",
        "- List/Dictionary Comprehension: removes items based on a condition\n",
        "\n",
        "- update(): adds new key- value apirs or updates existing ones\n",
        "\n"
      ],
      "metadata": {
        "id": "SNeibIPjttsO"
      },
      "id": "SNeibIPjttsO"
    },
    {
      "cell_type": "code",
      "source": [
        "my_dict = {'a': 1, 'b': 2}\n",
        "my_dict.update({'c': 3})\n",
        "my_dict.update({'a': 10})\n",
        "my_dict"
      ],
      "metadata": {
        "colab": {
          "base_uri": "https://localhost:8080/"
        },
        "id": "AjCGnknEs6IT",
        "outputId": "4bdff8f2-d4da-45d8-cd84-26b77ccdd690"
      },
      "id": "AjCGnknEs6IT",
      "execution_count": 15,
      "outputs": [
        {
          "output_type": "execute_result",
          "data": {
            "text/plain": [
              "{'a': 10, 'b': 2, 'c': 3}"
            ]
          },
          "metadata": {},
          "execution_count": 15
        }
      ]
    },
    {
      "cell_type": "markdown",
      "source": [
        "## Booleans Conditions ##\n",
        "\n",
        "x==y: is x equal to y?\n",
        "\n",
        "x!=y: is x not equal to y?\n",
        "\n",
        "x>y:  is x greater y?\n",
        "\n",
        "\n",
        "```\n",
        "# This is formatted as code\n",
        "```\n",
        "\n",
        "\n",
        "x>=y: is x greater than or equal to y?"
      ],
      "metadata": {
        "id": "RWrjmf4bfnAq"
      },
      "id": "RWrjmf4bfnAq"
    },
    {
      "cell_type": "code",
      "source": [
        "#CW2:\n",
        "20=='20'\n",
        "#results in false bc a integer (left side) is not the same type as a string (right side)"
      ],
      "metadata": {
        "colab": {
          "base_uri": "https://localhost:8080/"
        },
        "id": "iXsw11nNflMk",
        "outputId": "8f631e0e-227e-494a-9b1f-a5a8c8e80797"
      },
      "id": "iXsw11nNflMk",
      "execution_count": 3,
      "outputs": [
        {
          "output_type": "execute_result",
          "data": {
            "text/plain": [
              "False"
            ]
          },
          "metadata": {},
          "execution_count": 3
        }
      ]
    },
    {
      "cell_type": "markdown",
      "source": [
        "\n"
      ],
      "metadata": {
        "id": "hXbdfkCDgb4_"
      },
      "id": "hXbdfkCDgb4_"
    },
    {
      "cell_type": "markdown",
      "source": [
        "## Slicing Methods\n",
        "\n",
        "Important to remember for lists, Index Starts at 0 not\n",
        "\n",
        "Used when you want to extract a substring from the string\n",
        "\n",
        "In python it is left inclusive and right exlcusive\n",
        "\n",
        "###Format\n",
        "[start : end : stop]\n",
        "\n",
        "[:] --> extracts the entire list\n",
        "\n",
        "##Bulit in Functions\n",
        "len() command gets the length of the string or how many elements are in a list\n",
        "\n",
        "Dot operation:\n",
        "  \n",
        "  -used to access atributes ex:\n",
        "    \n",
        "   (  .split,  . delete,  .add,   .join)\n",
        "\n",
        "\n"
      ],
      "metadata": {
        "id": "eRDq4jvYiv9C"
      },
      "id": "eRDq4jvYiv9C"
    },
    {
      "cell_type": "code",
      "source": [
        "#Slicing Methods practice:\n",
        "# [start: end: step]\n",
        "letters ='abcdeghij'\n",
        "letters[4:]\n"
      ],
      "metadata": {
        "colab": {
          "base_uri": "https://localhost:8080/",
          "height": 36
        },
        "id": "XajYFy6ugbU3",
        "outputId": "ff2cc9a5-d13f-4fc8-f364-d853d8137d4d"
      },
      "id": "XajYFy6ugbU3",
      "execution_count": 5,
      "outputs": [
        {
          "output_type": "execute_result",
          "data": {
            "text/plain": [
              "'eghij'"
            ],
            "application/vnd.google.colaboratory.intrinsic+json": {
              "type": "string"
            }
          },
          "metadata": {},
          "execution_count": 5
        }
      ]
    },
    {
      "cell_type": "code",
      "source": [
        "letters[:3] #it does not include the 3rd element! its left inclusive but RIGHT EXCLUSIVE and remember index starts at 0"
      ],
      "metadata": {
        "colab": {
          "base_uri": "https://localhost:8080/",
          "height": 36
        },
        "id": "j2M5L1HFkWbz",
        "outputId": "c39e8719-56ef-44cb-c8ef-c5e5cbc91760"
      },
      "id": "j2M5L1HFkWbz",
      "execution_count": 6,
      "outputs": [
        {
          "output_type": "execute_result",
          "data": {
            "text/plain": [
              "'abc'"
            ],
            "application/vnd.google.colaboratory.intrinsic+json": {
              "type": "string"
            }
          },
          "metadata": {},
          "execution_count": 6
        }
      ]
    },
    {
      "cell_type": "markdown",
      "source": [],
      "metadata": {
        "id": "10u0rbpymBjT"
      },
      "id": "10u0rbpymBjT"
    },
    {
      "cell_type": "code",
      "source": [
        "#Cw 4.3\n",
        "fare= \"$10.00\"\n",
        "tip= \"2.00$\"\n",
        "tax= \"$ 0.80\"\n",
        "\n",
        "fare=fare[1:] #slicing to exclude the $\n",
        "tip=tip[:-1]\n",
        "tax=tax[2:]\n",
        "\n",
        "fare = float(fare)  #type casting\n",
        "tip=float(tip)\n",
        "tax=float(tax)\n",
        "\n",
        "tot=fare+tip+tax\n",
        "print(\"the total price is\", tot)\n"
      ],
      "metadata": {
        "colab": {
          "base_uri": "https://localhost:8080/"
        },
        "id": "ZWp7oxyymnVn",
        "outputId": "050c2917-410a-457e-9d53-febddfe685dc"
      },
      "id": "ZWp7oxyymnVn",
      "execution_count": 1,
      "outputs": [
        {
          "output_type": "stream",
          "name": "stdout",
          "text": [
            "the total price is 12.8\n"
          ]
        }
      ]
    },
    {
      "cell_type": "markdown",
      "source": [
        "# While Loop\n",
        "\n",
        "  ** While loop is used to execute a block of codde repeatedly until given boolean conidition evaluated is False\n",
        "\n",
        "1) first assign value 1 to count\n",
        "\n",
        "2) The while loop compared to the count will countinue until the condition becomes untrue\n",
        "\n",
        "3) increment the counter by +=1 at the end --> and loop will continue to run if condition is true\n",
        "\n",
        "- break statements are useful to use when you dont know when to stop at an exact time\n",
        "\n",
        "- can use an infinite loop with a break\n",
        "statement\n",
        "\n",
        "- if we dont want to break out of the loop but rather just skip ahead to the next iteration --> use a continue statement"
      ],
      "metadata": {
        "id": "Ex0tvtm2nM_8"
      },
      "id": "Ex0tvtm2nM_8"
    },
    {
      "cell_type": "code",
      "source": [
        "#While Loops\n",
        "count = 1\n",
        "while count <= 5: #this loop keeps iterating until count <=5. After every time the loop runs the count increases by 1\n",
        "    print(count)\n",
        "    count += 1"
      ],
      "metadata": {
        "colab": {
          "base_uri": "https://localhost:8080/"
        },
        "id": "yqrsvtw_osgw",
        "outputId": "9c64ed96-1f3c-4369-8c65-351a1f434be8"
      },
      "id": "yqrsvtw_osgw",
      "execution_count": 2,
      "outputs": [
        {
          "output_type": "stream",
          "name": "stdout",
          "text": [
            "1\n",
            "2\n",
            "3\n",
            "4\n",
            "5\n"
          ]
        }
      ]
    },
    {
      "cell_type": "code",
      "source": [
        "#while loop with a break and continue statement:\n",
        "while True:\n",
        "    value = input(\"Integer, please [q to quit]: \")\n",
        "    if value == 'q': # quit\n",
        "        break\n",
        "    number = int(value)\n",
        "    if number % 2 == 0: # an even number\n",
        "        continue #continues to top without executing the print value.\n",
        "    print(number, \"squared is\", number*number)"
      ],
      "metadata": {
        "colab": {
          "base_uri": "https://localhost:8080/"
        },
        "id": "4DJIkW2UouRm",
        "outputId": "69ed9b44-1b0b-4f6f-ba53-677163caeaa0"
      },
      "id": "4DJIkW2UouRm",
      "execution_count": 4,
      "outputs": [
        {
          "name": "stdout",
          "output_type": "stream",
          "text": [
            "Integer, please [q to quit]: 10\n",
            "Integer, please [q to quit]: 8\n",
            "Integer, please [q to quit]: 5\n",
            "5 squared is 25\n",
            "Integer, please [q to quit]: q\n"
          ]
        }
      ]
    },
    {
      "cell_type": "markdown",
      "source": [
        "# For Loop\n",
        "\n",
        "Useful when we want to loop through a set of things like a strong of test or a list of numbers\n",
        "\n",
        "1) need to assign the string or list for which we will use the in function to run through the word\n",
        "\n",
        "2) loop will continue to execute for the whole list or string as long or for the range we set it to run through\n",
        "\n",
        "** For loop makes it possible to traverse data structures w/o knowing how large they are\n",
        "\n",
        "- just like the while loop you can use continue or break statements.\n",
        "\n",
        "#### Range Function:\n",
        "range function is commonly used with for loops:\n",
        "- range() returns a stream of numbers within a specified range w/o having to create and store a large data structure\n",
        "\n",
        "range (start, stop, step)\n",
        "\n",
        "** remember the end of the range function is exclusive\n"
      ],
      "metadata": {
        "id": "7s6bEXS3o9K5"
      },
      "id": "7s6bEXS3o9K5"
    },
    {
      "cell_type": "code",
      "source": [
        "word= \"carolyn\"\n",
        "for i in word:\n",
        "  print(i)"
      ],
      "metadata": {
        "colab": {
          "base_uri": "https://localhost:8080/"
        },
        "id": "DWXFl4x0pbbI",
        "outputId": "77c1e105-93d6-452e-b53c-ba143749f88f"
      },
      "id": "DWXFl4x0pbbI",
      "execution_count": 7,
      "outputs": [
        {
          "output_type": "stream",
          "name": "stdout",
          "text": [
            "c\n",
            "a\n",
            "r\n",
            "o\n",
            "l\n",
            "y\n",
            "n\n"
          ]
        }
      ]
    },
    {
      "cell_type": "code",
      "source": [
        "for x in range(0, 3): #Remember 3 is exclusive so list will only be [0,1,2]\n",
        "    print(x)"
      ],
      "metadata": {
        "colab": {
          "base_uri": "https://localhost:8080/"
        },
        "id": "gaDx_nF_r8bz",
        "outputId": "7d646916-aca5-4602-f820-e7f45be1fd7f"
      },
      "id": "gaDx_nF_r8bz",
      "execution_count": 8,
      "outputs": [
        {
          "output_type": "stream",
          "name": "stdout",
          "text": [
            "0\n",
            "1\n",
            "2\n"
          ]
        }
      ]
    },
    {
      "cell_type": "code",
      "source": [
        "#CW 4.5:\n",
        "#Use a for loop to print each value of the list [3, 2, 1, 0], one at a time.\n",
        "\n",
        "vals=[3,2,1,0]\n",
        "for i in vals:\n",
        "  print(i)"
      ],
      "metadata": {
        "colab": {
          "base_uri": "https://localhost:8080/"
        },
        "id": "SxsOqRJ5sL5F",
        "outputId": "0f5eb20b-543b-45e9-e99b-6ce4b11226ea"
      },
      "id": "SxsOqRJ5sL5F",
      "execution_count": 9,
      "outputs": [
        {
          "output_type": "stream",
          "name": "stdout",
          "text": [
            "3\n",
            "2\n",
            "1\n",
            "0\n"
          ]
        }
      ]
    },
    {
      "cell_type": "code",
      "source": [
        "#CW 6:\n",
        "guess_me=4\n",
        "number=1\n",
        "while True:\n",
        "  if number<guess_me:\n",
        "    print(\"too low\")\n",
        "  elif number ==guess_me:\n",
        "    print(\"found it!\")\n",
        "    break\n",
        "  else:\n",
        "    print(\"oops\")\n",
        "    break\n",
        "\n",
        "  number +=1"
      ],
      "metadata": {
        "colab": {
          "base_uri": "https://localhost:8080/"
        },
        "id": "H7PWdL_PsfOA",
        "outputId": "d829c188-3469-4cae-9c31-23ea4e043176"
      },
      "id": "H7PWdL_PsfOA",
      "execution_count": 13,
      "outputs": [
        {
          "output_type": "stream",
          "name": "stdout",
          "text": [
            "too low\n",
            "too low\n",
            "too low\n",
            "found it!\n"
          ]
        }
      ]
    },
    {
      "cell_type": "markdown",
      "source": [
        "# Try and Except:\n",
        "\n",
        "Python uses exceptions: code that is executed when an associated error occurs.\n",
        "When we run code that might fail under some circumstances, we also need appropriate exception handlers to intercept any potential errors.\n",
        "\n",
        "Accessing a list or tuple with an out-of-range position, or a dictionary with a nonexistent key\n",
        "\n",
        "-It tries to run lines that it will accept if there are errors in your code."
      ],
      "metadata": {
        "id": "LVqNMeC_uUOe"
      },
      "id": "LVqNMeC_uUOe"
    },
    {
      "cell_type": "code",
      "source": [],
      "metadata": {
        "id": "roFvXGM8u1za"
      },
      "id": "roFvXGM8u1za",
      "execution_count": null,
      "outputs": []
    },
    {
      "cell_type": "code",
      "source": [
        "short_list = [1, 2, 3]\n",
        "position = 5\n",
        "short_list[position] #this will cause an error\n",
        "\n",
        "short_list = [1, 2, 3]\n",
        "position = 5\n",
        "try:\n",
        "    short_list[position]\n",
        "except:\n",
        "    print('Need a position between 0 and', len(short_list)-1, ' but got',\n",
        "    position)"
      ],
      "metadata": {
        "colab": {
          "base_uri": "https://localhost:8080/",
          "height": 211
        },
        "id": "UXOyrdJsuyDk",
        "outputId": "6898b58b-88dd-4a40-eb79-8cfb08a40642"
      },
      "id": "UXOyrdJsuyDk",
      "execution_count": 19,
      "outputs": [
        {
          "output_type": "error",
          "ename": "IndexError",
          "evalue": "list index out of range",
          "traceback": [
            "\u001b[0;31m---------------------------------------------------------------------------\u001b[0m",
            "\u001b[0;31mIndexError\u001b[0m                                Traceback (most recent call last)",
            "\u001b[0;32m<ipython-input-19-e1a63c918921>\u001b[0m in \u001b[0;36m<cell line: 0>\u001b[0;34m()\u001b[0m\n\u001b[1;32m      1\u001b[0m \u001b[0mshort_list\u001b[0m \u001b[0;34m=\u001b[0m \u001b[0;34m[\u001b[0m\u001b[0;36m1\u001b[0m\u001b[0;34m,\u001b[0m \u001b[0;36m2\u001b[0m\u001b[0;34m,\u001b[0m \u001b[0;36m3\u001b[0m\u001b[0;34m]\u001b[0m\u001b[0;34m\u001b[0m\u001b[0;34m\u001b[0m\u001b[0m\n\u001b[1;32m      2\u001b[0m \u001b[0mposition\u001b[0m \u001b[0;34m=\u001b[0m \u001b[0;36m5\u001b[0m\u001b[0;34m\u001b[0m\u001b[0;34m\u001b[0m\u001b[0m\n\u001b[0;32m----> 3\u001b[0;31m \u001b[0mshort_list\u001b[0m\u001b[0;34m[\u001b[0m\u001b[0mposition\u001b[0m\u001b[0;34m]\u001b[0m \u001b[0;31m#this will cause an error\u001b[0m\u001b[0;34m\u001b[0m\u001b[0;34m\u001b[0m\u001b[0m\n\u001b[0m\u001b[1;32m      4\u001b[0m \u001b[0;34m\u001b[0m\u001b[0m\n\u001b[1;32m      5\u001b[0m \u001b[0mshort_list\u001b[0m \u001b[0;34m=\u001b[0m \u001b[0;34m[\u001b[0m\u001b[0;36m1\u001b[0m\u001b[0;34m,\u001b[0m \u001b[0;36m2\u001b[0m\u001b[0;34m,\u001b[0m \u001b[0;36m3\u001b[0m\u001b[0;34m]\u001b[0m\u001b[0;34m\u001b[0m\u001b[0;34m\u001b[0m\u001b[0m\n",
            "\u001b[0;31mIndexError\u001b[0m: list index out of range"
          ]
        }
      ]
    },
    {
      "cell_type": "code",
      "source": [
        "#Use this try block: it allows part of the code to run even if there is an error.\n",
        "#If there is an error and exception is rasied and the code inside the except block runs\n",
        "#--> if there aren't any errors then the except block is skipped.\n",
        "\n",
        "short_list = [1, 2, 3]\n",
        "position = 5\n",
        "try:\n",
        "    short_list[position]\n",
        "except:\n",
        "    print('Need a position between 0 and', len(short_list)-1, ' but got',\n",
        "    position)"
      ],
      "metadata": {
        "colab": {
          "base_uri": "https://localhost:8080/"
        },
        "id": "pVIoBOudu7Ld",
        "outputId": "1b8fa395-db8d-48d0-848d-c076e3f565a1"
      },
      "id": "pVIoBOudu7Ld",
      "execution_count": 20,
      "outputs": [
        {
          "output_type": "stream",
          "name": "stdout",
          "text": [
            "Need a position between 0 and 2  but got 5\n"
          ]
        }
      ]
    },
    {
      "cell_type": "code",
      "source": [
        "short_list = [1, 2, 3]\n",
        "while True:\n",
        "    value = input('Position [q to quit]? ')\n",
        "    if value == 'q':\n",
        "        break\n",
        "    try:\n",
        "        position = int(value)\n",
        "        print(short_list[position])\n",
        "    except IndexError as err: #means that err will be printed\n",
        "        print('Bad index:', position, '-', err)\n",
        "    except Exception as other: #would see if entered $5, etc.. Any other error besides an index error\n",
        "        print('Something else broke:', other)"
      ],
      "metadata": {
        "colab": {
          "base_uri": "https://localhost:8080/"
        },
        "id": "WM2xJumXvauK",
        "outputId": "02a04ed3-ebd1-428b-f974-8f8727482e3d"
      },
      "id": "WM2xJumXvauK",
      "execution_count": 21,
      "outputs": [
        {
          "name": "stdout",
          "output_type": "stream",
          "text": [
            "Position [q to quit]? 4\n",
            "Bad index: 4 - list index out of range\n",
            "Position [q to quit]? 2\n",
            "3\n",
            "Position [q to quit]? -7\n",
            "Bad index: -7 - list index out of range\n",
            "Position [q to quit]? q\n"
          ]
        }
      ]
    },
    {
      "cell_type": "code",
      "source": [
        "##Cw7\n",
        "value=\"$320\"\n",
        "\n",
        "try:\n",
        "  value_n =float(value)\n",
        "  print(\"you Entered\", value)\n",
        "except:\n",
        "    print(\"that's not a valid number!\")"
      ],
      "metadata": {
        "colab": {
          "base_uri": "https://localhost:8080/"
        },
        "id": "L1KU25ozv8ru",
        "outputId": "c981d56c-5381-4527-8caa-d08b05d6c297"
      },
      "id": "L1KU25ozv8ru",
      "execution_count": 26,
      "outputs": [
        {
          "output_type": "stream",
          "name": "stdout",
          "text": [
            "that's not a valid number!\n"
          ]
        }
      ]
    },
    {
      "cell_type": "markdown",
      "source": [
        "# Importing modules, packages and Libraries:\n",
        "\n",
        "Main libraries are:\n",
        "\n",
        "- Pandas -->\n",
        "- numpy --> np.arry()\n",
        "- matplotlib --> matplotlib.pyplot\n",
        "- seaborn\n",
        "\n",
        "Module: bunch of realted codes svaed in a file with .py extension\n",
        "\n",
        "Package: dir4ectory of a collection of modules\n",
        "\n",
        "Library: collection of packages"
      ],
      "metadata": {
        "id": "kyH80660wGVF"
      },
      "id": "kyH80660wGVF"
    },
    {
      "cell_type": "code",
      "source": [
        "## ways to import modules, packages and libraries\n",
        "\n",
        "# using as keyword\n",
        "import pandas as pd\n",
        "\n",
        "# using from keyword\n",
        "# from LIBRARY import FUNCTION, PACKAGE, MODULE\n"
      ],
      "metadata": {
        "id": "-Ucgwsjawz-3"
      },
      "id": "-Ucgwsjawz-3",
      "execution_count": 3,
      "outputs": []
    },
    {
      "cell_type": "code",
      "source": [
        "# to install a library LIBRARY on google Colab or Anaconda Python do:\n",
        "!pip install LIBRARY"
      ],
      "metadata": {
        "colab": {
          "base_uri": "https://localhost:8080/"
        },
        "id": "KC7ijUUrxGl-",
        "outputId": "ac884d0e-da5a-4d5d-b3a0-868cb1c332fe"
      },
      "id": "KC7ijUUrxGl-",
      "execution_count": 5,
      "outputs": [
        {
          "output_type": "stream",
          "name": "stdout",
          "text": [
            "Collecting LIBRARY\n",
            "  Downloading library-3.0.53-py3-none-any.whl.metadata (153 kB)\n",
            "\u001b[?25l     \u001b[90m━━━━━━━━━━━━━━━━━━━━━━━━━━━━━━━━━━━━━━━━\u001b[0m \u001b[32m0.0/153.0 kB\u001b[0m \u001b[31m?\u001b[0m eta \u001b[36m-:--:--\u001b[0m\r\u001b[2K     \u001b[91m━━━━━━━━━━━━━━━━━━━━━━━━━━━━━━━━━━━━━\u001b[0m\u001b[90m╺\u001b[0m\u001b[90m━━\u001b[0m \u001b[32m143.4/153.0 kB\u001b[0m \u001b[31m4.3 MB/s\u001b[0m eta \u001b[36m0:00:01\u001b[0m\r\u001b[2K     \u001b[90m━━━━━━━━━━━━━━━━━━━━━━━━━━━━━━━━━━━━━━━━\u001b[0m \u001b[32m153.0/153.0 kB\u001b[0m \u001b[31m3.3 MB/s\u001b[0m eta \u001b[36m0:00:00\u001b[0m\n",
            "\u001b[?25hRequirement already satisfied: beautifulsoup4>=4.10.0 in /usr/local/lib/python3.11/dist-packages (from LIBRARY) (4.13.3)\n",
            "Collecting ffmpeg-python (from LIBRARY)\n",
            "  Downloading ffmpeg_python-0.2.0-py3-none-any.whl.metadata (1.7 kB)\n",
            "Collecting ftfy (from LIBRARY)\n",
            "  Downloading ftfy-6.3.1-py3-none-any.whl.metadata (7.3 kB)\n",
            "Collecting gallery-dl (from LIBRARY)\n",
            "  Downloading gallery_dl-1.28.5-py3-none-any.whl.metadata (15 kB)\n",
            "Requirement already satisfied: humanize in /usr/local/lib/python3.11/dist-packages (from LIBRARY) (4.11.0)\n",
            "Requirement already satisfied: ipython in /usr/local/lib/python3.11/dist-packages (from LIBRARY) (7.34.0)\n",
            "Requirement already satisfied: lxml in /usr/local/lib/python3.11/dist-packages (from LIBRARY) (5.3.0)\n",
            "Requirement already satisfied: markdown in /usr/local/lib/python3.11/dist-packages (from LIBRARY) (3.7)\n",
            "Collecting mutagen (from LIBRARY)\n",
            "  Downloading mutagen-1.47.0-py3-none-any.whl.metadata (1.7 kB)\n",
            "Requirement already satisfied: natsort in /usr/local/lib/python3.11/dist-packages (from LIBRARY) (8.4.0)\n",
            "Collecting praw (from LIBRARY)\n",
            "  Downloading praw-7.8.1-py3-none-any.whl.metadata (9.4 kB)\n",
            "Collecting puremagic (from LIBRARY)\n",
            "  Downloading puremagic-1.28-py3-none-any.whl.metadata (5.8 kB)\n",
            "Collecting pysubs2 (from LIBRARY)\n",
            "  Downloading pysubs2-1.8.0-py3-none-any.whl.metadata (3.2 kB)\n",
            "Requirement already satisfied: python-dateutil in /usr/local/lib/python3.11/dist-packages (from LIBRARY) (2.8.2)\n",
            "Collecting python-mpv-jsonipc (from LIBRARY)\n",
            "  Downloading python_mpv_jsonipc-1.2.0-py3-none-any.whl.metadata (2.3 kB)\n",
            "Requirement already satisfied: regex in /usr/local/lib/python3.11/dist-packages (from LIBRARY) (2024.11.6)\n",
            "Requirement already satisfied: rich in /usr/local/lib/python3.11/dist-packages (from LIBRARY) (13.9.4)\n",
            "Collecting screeninfo (from LIBRARY)\n",
            "  Downloading screeninfo-0.8.1-py3-none-any.whl.metadata (2.9 kB)\n",
            "Collecting sqlite-utils (from LIBRARY)\n",
            "  Downloading sqlite_utils-3.38-py3-none-any.whl.metadata (7.5 kB)\n",
            "Requirement already satisfied: tabulate in /usr/local/lib/python3.11/dist-packages (from LIBRARY) (0.9.0)\n",
            "Collecting tinytag (from LIBRARY)\n",
            "  Downloading tinytag-2.0.0-py3-none-any.whl.metadata (18 kB)\n",
            "Requirement already satisfied: wcwidth in /usr/local/lib/python3.11/dist-packages (from LIBRARY) (0.2.13)\n",
            "Collecting yt-dlp[default] (from LIBRARY)\n",
            "  Downloading yt_dlp-2025.1.26-py3-none-any.whl.metadata (172 kB)\n",
            "\u001b[2K     \u001b[90m━━━━━━━━━━━━━━━━━━━━━━━━━━━━━━━━━━━━━━━━\u001b[0m \u001b[32m172.0/172.0 kB\u001b[0m \u001b[31m9.3 MB/s\u001b[0m eta \u001b[36m0:00:00\u001b[0m\n",
            "\u001b[?25hRequirement already satisfied: soupsieve>1.2 in /usr/local/lib/python3.11/dist-packages (from beautifulsoup4>=4.10.0->LIBRARY) (2.6)\n",
            "Requirement already satisfied: typing-extensions>=4.0.0 in /usr/local/lib/python3.11/dist-packages (from beautifulsoup4>=4.10.0->LIBRARY) (4.12.2)\n",
            "Requirement already satisfied: future in /usr/local/lib/python3.11/dist-packages (from ffmpeg-python->LIBRARY) (1.0.0)\n",
            "Requirement already satisfied: requests>=2.11.0 in /usr/local/lib/python3.11/dist-packages (from gallery-dl->LIBRARY) (2.32.3)\n",
            "Requirement already satisfied: setuptools>=18.5 in /usr/local/lib/python3.11/dist-packages (from ipython->LIBRARY) (75.1.0)\n",
            "Collecting jedi>=0.16 (from ipython->LIBRARY)\n",
            "  Downloading jedi-0.19.2-py2.py3-none-any.whl.metadata (22 kB)\n",
            "Requirement already satisfied: decorator in /usr/local/lib/python3.11/dist-packages (from ipython->LIBRARY) (4.4.2)\n",
            "Requirement already satisfied: pickleshare in /usr/local/lib/python3.11/dist-packages (from ipython->LIBRARY) (0.7.5)\n",
            "Requirement already satisfied: traitlets>=4.2 in /usr/local/lib/python3.11/dist-packages (from ipython->LIBRARY) (5.7.1)\n",
            "Requirement already satisfied: prompt-toolkit!=3.0.0,!=3.0.1,<3.1.0,>=2.0.0 in /usr/local/lib/python3.11/dist-packages (from ipython->LIBRARY) (3.0.50)\n",
            "Requirement already satisfied: pygments in /usr/local/lib/python3.11/dist-packages (from ipython->LIBRARY) (2.18.0)\n",
            "Requirement already satisfied: backcall in /usr/local/lib/python3.11/dist-packages (from ipython->LIBRARY) (0.2.0)\n",
            "Requirement already satisfied: matplotlib-inline in /usr/local/lib/python3.11/dist-packages (from ipython->LIBRARY) (0.1.7)\n",
            "Requirement already satisfied: pexpect>4.3 in /usr/local/lib/python3.11/dist-packages (from ipython->LIBRARY) (4.9.0)\n",
            "Collecting prawcore<3,>=2.4 (from praw->LIBRARY)\n",
            "  Downloading prawcore-2.4.0-py3-none-any.whl.metadata (5.0 kB)\n",
            "Collecting update_checker>=0.18 (from praw->LIBRARY)\n",
            "  Downloading update_checker-0.18.0-py3-none-any.whl.metadata (2.3 kB)\n",
            "Requirement already satisfied: websocket-client>=0.54.0 in /usr/local/lib/python3.11/dist-packages (from praw->LIBRARY) (1.8.0)\n",
            "Requirement already satisfied: six>=1.5 in /usr/local/lib/python3.11/dist-packages (from python-dateutil->LIBRARY) (1.17.0)\n",
            "Requirement already satisfied: markdown-it-py>=2.2.0 in /usr/local/lib/python3.11/dist-packages (from rich->LIBRARY) (3.0.0)\n",
            "Collecting sqlite-fts4 (from sqlite-utils->LIBRARY)\n",
            "  Downloading sqlite_fts4-1.0.3-py3-none-any.whl.metadata (6.6 kB)\n",
            "Requirement already satisfied: click in /usr/local/lib/python3.11/dist-packages (from sqlite-utils->LIBRARY) (8.1.8)\n",
            "Collecting click-default-group>=1.2.3 (from sqlite-utils->LIBRARY)\n",
            "  Downloading click_default_group-1.2.4-py2.py3-none-any.whl.metadata (2.8 kB)\n",
            "Requirement already satisfied: pluggy in /usr/local/lib/python3.11/dist-packages (from sqlite-utils->LIBRARY) (1.5.0)\n",
            "Collecting brotli (from yt-dlp[default]->LIBRARY)\n",
            "  Downloading Brotli-1.1.0-cp311-cp311-manylinux_2_17_x86_64.manylinux2014_x86_64.whl.metadata (5.5 kB)\n",
            "Requirement already satisfied: certifi in /usr/local/lib/python3.11/dist-packages (from yt-dlp[default]->LIBRARY) (2025.1.31)\n",
            "Collecting pycryptodomex (from yt-dlp[default]->LIBRARY)\n",
            "  Downloading pycryptodomex-3.21.0-cp36-abi3-manylinux_2_17_x86_64.manylinux2014_x86_64.whl.metadata (3.4 kB)\n",
            "Requirement already satisfied: urllib3<3,>=1.26.17 in /usr/local/lib/python3.11/dist-packages (from yt-dlp[default]->LIBRARY) (2.3.0)\n",
            "Requirement already satisfied: websockets>=13.0 in /usr/local/lib/python3.11/dist-packages (from yt-dlp[default]->LIBRARY) (14.2)\n",
            "Requirement already satisfied: parso<0.9.0,>=0.8.4 in /usr/local/lib/python3.11/dist-packages (from jedi>=0.16->ipython->LIBRARY) (0.8.4)\n",
            "Requirement already satisfied: mdurl~=0.1 in /usr/local/lib/python3.11/dist-packages (from markdown-it-py>=2.2.0->rich->LIBRARY) (0.1.2)\n",
            "Requirement already satisfied: ptyprocess>=0.5 in /usr/local/lib/python3.11/dist-packages (from pexpect>4.3->ipython->LIBRARY) (0.7.0)\n",
            "Requirement already satisfied: charset-normalizer<4,>=2 in /usr/local/lib/python3.11/dist-packages (from requests>=2.11.0->gallery-dl->LIBRARY) (3.4.1)\n",
            "Requirement already satisfied: idna<4,>=2.5 in /usr/local/lib/python3.11/dist-packages (from requests>=2.11.0->gallery-dl->LIBRARY) (3.10)\n",
            "Downloading library-3.0.53-py3-none-any.whl (1.1 MB)\n",
            "\u001b[2K   \u001b[90m━━━━━━━━━━━━━━━━━━━━━━━━━━━━━━━━━━━━━━━━\u001b[0m \u001b[32m1.1/1.1 MB\u001b[0m \u001b[31m28.9 MB/s\u001b[0m eta \u001b[36m0:00:00\u001b[0m\n",
            "\u001b[?25hDownloading ffmpeg_python-0.2.0-py3-none-any.whl (25 kB)\n",
            "Downloading ftfy-6.3.1-py3-none-any.whl (44 kB)\n",
            "\u001b[2K   \u001b[90m━━━━━━━━━━━━━━━━━━━━━━━━━━━━━━━━━━━━━━━━\u001b[0m \u001b[32m44.8/44.8 kB\u001b[0m \u001b[31m3.5 MB/s\u001b[0m eta \u001b[36m0:00:00\u001b[0m\n",
            "\u001b[?25hDownloading gallery_dl-1.28.5-py3-none-any.whl (655 kB)\n",
            "\u001b[2K   \u001b[90m━━━━━━━━━━━━━━━━━━━━━━━━━━━━━━━━━━━━━━━━\u001b[0m \u001b[32m655.3/655.3 kB\u001b[0m \u001b[31m32.0 MB/s\u001b[0m eta \u001b[36m0:00:00\u001b[0m\n",
            "\u001b[?25hDownloading mutagen-1.47.0-py3-none-any.whl (194 kB)\n",
            "\u001b[2K   \u001b[90m━━━━━━━━━━━━━━━━━━━━━━━━━━━━━━━━━━━━━━━━\u001b[0m \u001b[32m194.4/194.4 kB\u001b[0m \u001b[31m15.5 MB/s\u001b[0m eta \u001b[36m0:00:00\u001b[0m\n",
            "\u001b[?25hDownloading praw-7.8.1-py3-none-any.whl (189 kB)\n",
            "\u001b[2K   \u001b[90m━━━━━━━━━━━━━━━━━━━━━━━━━━━━━━━━━━━━━━━━\u001b[0m \u001b[32m189.3/189.3 kB\u001b[0m \u001b[31m16.4 MB/s\u001b[0m eta \u001b[36m0:00:00\u001b[0m\n",
            "\u001b[?25hDownloading puremagic-1.28-py3-none-any.whl (43 kB)\n",
            "\u001b[2K   \u001b[90m━━━━━━━━━━━━━━━━━━━━━━━━━━━━━━━━━━━━━━━━\u001b[0m \u001b[32m43.2/43.2 kB\u001b[0m \u001b[31m3.4 MB/s\u001b[0m eta \u001b[36m0:00:00\u001b[0m\n",
            "\u001b[?25hDownloading pysubs2-1.8.0-py3-none-any.whl (43 kB)\n",
            "\u001b[2K   \u001b[90m━━━━━━━━━━━━━━━━━━━━━━━━━━━━━━━━━━━━━━━━\u001b[0m \u001b[32m43.5/43.5 kB\u001b[0m \u001b[31m3.6 MB/s\u001b[0m eta \u001b[36m0:00:00\u001b[0m\n",
            "\u001b[?25hDownloading python_mpv_jsonipc-1.2.0-py3-none-any.whl (12 kB)\n",
            "Downloading screeninfo-0.8.1-py3-none-any.whl (12 kB)\n",
            "Downloading sqlite_utils-3.38-py3-none-any.whl (68 kB)\n",
            "\u001b[2K   \u001b[90m━━━━━━━━━━━━━━━━━━━━━━━━━━━━━━━━━━━━━━━━\u001b[0m \u001b[32m68.2/68.2 kB\u001b[0m \u001b[31m5.2 MB/s\u001b[0m eta \u001b[36m0:00:00\u001b[0m\n",
            "\u001b[?25hDownloading tinytag-2.0.0-py3-none-any.whl (30 kB)\n",
            "Downloading click_default_group-1.2.4-py2.py3-none-any.whl (4.1 kB)\n",
            "Downloading jedi-0.19.2-py2.py3-none-any.whl (1.6 MB)\n",
            "\u001b[2K   \u001b[90m━━━━━━━━━━━━━━━━━━━━━━━━━━━━━━━━━━━━━━━━\u001b[0m \u001b[32m1.6/1.6 MB\u001b[0m \u001b[31m51.0 MB/s\u001b[0m eta \u001b[36m0:00:00\u001b[0m\n",
            "\u001b[?25hDownloading prawcore-2.4.0-py3-none-any.whl (17 kB)\n",
            "Downloading update_checker-0.18.0-py3-none-any.whl (7.0 kB)\n",
            "Downloading Brotli-1.1.0-cp311-cp311-manylinux_2_17_x86_64.manylinux2014_x86_64.whl (2.9 MB)\n",
            "\u001b[2K   \u001b[90m━━━━━━━━━━━━━━━━━━━━━━━━━━━━━━━━━━━━━━━━\u001b[0m \u001b[32m2.9/2.9 MB\u001b[0m \u001b[31m69.3 MB/s\u001b[0m eta \u001b[36m0:00:00\u001b[0m\n",
            "\u001b[?25hDownloading pycryptodomex-3.21.0-cp36-abi3-manylinux_2_17_x86_64.manylinux2014_x86_64.whl (2.3 MB)\n",
            "\u001b[2K   \u001b[90m━━━━━━━━━━━━━━━━━━━━━━━━━━━━━━━━━━━━━━━━\u001b[0m \u001b[32m2.3/2.3 MB\u001b[0m \u001b[31m63.5 MB/s\u001b[0m eta \u001b[36m0:00:00\u001b[0m\n",
            "\u001b[?25hDownloading sqlite_fts4-1.0.3-py3-none-any.whl (10.0 kB)\n",
            "Downloading yt_dlp-2025.1.26-py3-none-any.whl (3.2 MB)\n",
            "\u001b[2K   \u001b[90m━━━━━━━━━━━━━━━━━━━━━━━━━━━━━━━━━━━━━━━━\u001b[0m \u001b[32m3.2/3.2 MB\u001b[0m \u001b[31m79.8 MB/s\u001b[0m eta \u001b[36m0:00:00\u001b[0m\n",
            "\u001b[?25hInstalling collected packages: sqlite-fts4, puremagic, brotli, yt-dlp, tinytag, screeninfo, python-mpv-jsonipc, pysubs2, pycryptodomex, mutagen, jedi, ftfy, ffmpeg-python, click-default-group, update_checker, sqlite-utils, prawcore, gallery-dl, praw, LIBRARY\n",
            "Successfully installed LIBRARY-3.0.53 brotli-1.1.0 click-default-group-1.2.4 ffmpeg-python-0.2.0 ftfy-6.3.1 gallery-dl-1.28.5 jedi-0.19.2 mutagen-1.47.0 praw-7.8.1 prawcore-2.4.0 puremagic-1.28 pycryptodomex-3.21.0 pysubs2-1.8.0 python-mpv-jsonipc-1.2.0 screeninfo-0.8.1 sqlite-fts4-1.0.3 sqlite-utils-3.38 tinytag-2.0.0 update_checker-0.18.0 yt-dlp-2025.1.26\n"
          ]
        }
      ]
    },
    {
      "cell_type": "markdown",
      "source": [
        "# Part 3. Python Basics:\n",
        "\n",
        "Q0: my Git Hub Username:\n",
        "\n",
        "Carolynmack\n",
        "\n"
      ],
      "metadata": {
        "id": "BKZChheXlNTC"
      },
      "id": "BKZChheXlNTC"
    },
    {
      "cell_type": "markdown",
      "source": [
        "## Q1a\n",
        "- Create a list of integers from 1 to 10.\n",
        "\n",
        "- Append the number 11 to the list and remove the number 5."
      ],
      "metadata": {
        "id": "piL2_sFxlgoH"
      },
      "id": "piL2_sFxlgoH"
    },
    {
      "cell_type": "code",
      "source": [
        "list=[1,2,3,4,5,6,7,8,9,10]\n",
        "list.append(11) #append adds a value to the end of the\n",
        "list.remove(5)\n",
        "list"
      ],
      "metadata": {
        "colab": {
          "base_uri": "https://localhost:8080/"
        },
        "id": "_MgAlo9kluyg",
        "outputId": "1269e003-46e1-404b-aea8-43a253823f09"
      },
      "id": "_MgAlo9kluyg",
      "execution_count": 12,
      "outputs": [
        {
          "output_type": "execute_result",
          "data": {
            "text/plain": [
              "[1, 2, 3, 4, 6, 7, 8, 9, 10, 11]"
            ]
          },
          "metadata": {},
          "execution_count": 12
        }
      ]
    },
    {
      "cell_type": "markdown",
      "source": [
        "# Q1b\n",
        "\n",
        "Consider the following dictionary of three employees and their salaries:\n",
        "dict_salaries = {'Alice': 50000, 'Bob': 60000, 'Charlie': 70000}\n",
        "\n",
        "Add a new employee 'Dana' with a salary of 65000.\n",
        "Update 'Alice'’s salary to 55000.\n",
        "Print all employee names and their salaries."
      ],
      "metadata": {
        "id": "X5DOXAPNmu8g"
      },
      "id": "X5DOXAPNmu8g"
    },
    {
      "cell_type": "code",
      "source": [
        "dict_salaries = {'Alice': 50000, 'Bob': 60000, 'Charlie': 70000}"
      ],
      "metadata": {
        "id": "_OtYbQMKm2qm"
      },
      "id": "_OtYbQMKm2qm",
      "execution_count": 7,
      "outputs": []
    },
    {
      "cell_type": "code",
      "source": [
        "dict_salaries.update({'Dana': 65000,'Alice' : 55000 })\n",
        "print(dict_salaries)"
      ],
      "metadata": {
        "colab": {
          "base_uri": "https://localhost:8080/"
        },
        "id": "bfpxNpjWnFQm",
        "outputId": "c936725e-5466-4e20-a32d-4e0017bfa0e5"
      },
      "id": "bfpxNpjWnFQm",
      "execution_count": 8,
      "outputs": [
        {
          "output_type": "stream",
          "name": "stdout",
          "text": [
            "{'Alice': 55000, 'Bob': 60000, 'Charlie': 70000, 'Dana': 65000}\n"
          ]
        }
      ]
    },
    {
      "cell_type": "markdown",
      "source": [
        "#Q2a\n",
        "Assign a variable salary to 75000.\n",
        "Use an if-elif-else statement to print:\n",
        "- 'Low' if salary is less than 50,000\n",
        "- 'Medium' if salary is between 50,000 and 99,999\n",
        "- 'High' if salary is 100,000 or more"
      ],
      "metadata": {
        "id": "d6ZbCwj1nvoa"
      },
      "id": "d6ZbCwj1nvoa"
    },
    {
      "cell_type": "code",
      "source": [
        "salary=75000\n",
        "\n",
        "if salary < 50000:\n",
        "  print(\"Low\")\n",
        "elif salary >= 50000 and salary <= 99999:\n",
        "  print(\"Medium\")\n",
        "elif salary >= 100000:\n",
        "  print(\"High\")"
      ],
      "metadata": {
        "colab": {
          "base_uri": "https://localhost:8080/"
        },
        "id": "SAfDMcRPn5-L",
        "outputId": "d5b167b1-5334-41ab-def5-51518ceb8ee0"
      },
      "id": "SAfDMcRPn5-L",
      "execution_count": 9,
      "outputs": [
        {
          "output_type": "stream",
          "name": "stdout",
          "text": [
            "Medium\n"
          ]
        }
      ]
    },
    {
      "cell_type": "markdown",
      "source": [
        "#2b\n",
        "Assign two variables, role and salary, to 'Manager' and 85000, respectively.\n",
        "\n",
        "Use nested if-else statements to print:\n",
        "\n",
        "- 'Eligible for bonus' if the role is 'Manager' and the salary is greater than 80,000.\n",
        "- 'Eligible for raise' if the role is 'Analyst' and the salary is less than 60,000.\n",
        "- 'No action needed' for all other cases."
      ],
      "metadata": {
        "id": "PDiKta3Oo7jy"
      },
      "id": "PDiKta3Oo7jy"
    },
    {
      "cell_type": "code",
      "source": [
        "role='Manager'\n",
        "salary=85000\n",
        "\n",
        "if role == 'Manager':\n",
        "  if salary > 80000:\n",
        "    print('Eligible for bounus')\n",
        "  else:                               #use else here and not elif\n",
        "    print('No action needed')\n",
        "elif role == 'Analyst':\n",
        "  if salary < 60000:\n",
        "    print('Eligible for raise')\n",
        "  else:\n",
        "    print('No action needed')\n",
        "else:\n",
        "  print('No action needed')"
      ],
      "metadata": {
        "colab": {
          "base_uri": "https://localhost:8080/"
        },
        "id": "jnXNt2FDpDfY",
        "outputId": "65d5f275-a3e5-47b8-c250-217216221a0b"
      },
      "id": "jnXNt2FDpDfY",
      "execution_count": 24,
      "outputs": [
        {
          "output_type": "stream",
          "name": "stdout",
          "text": [
            "Eligible for bounus\n"
          ]
        }
      ]
    },
    {
      "cell_type": "markdown",
      "source": [
        "#3a\n",
        "Consider the following list of salaries:\n",
        "list_salaries = [45000, 60000, 75000, 120000, 30000]\n",
        "\n",
        "- Calculate the average salary.\n",
        "- Use a for loop to print whether each salary is 'Above Average' or 'Below Average'.\n",
        "\n",
        "\n"
      ],
      "metadata": {
        "id": "QK3ChYDj0aPe"
      },
      "id": "QK3ChYDj0aPe"
    },
    {
      "cell_type": "code",
      "source": [
        "list_salaries = [45000, 60000, 75000, 120000, 30000]\n",
        "\n",
        "avg_salary = (sum(list_salaries)/len(list_salaries))\n",
        "\n",
        "avg_salary\n",
        "\n",
        "for i in list_salaries:\n",
        "  if i > avg_salary:\n",
        "    print(i, 'is Above Average')\n",
        "  else:\n",
        "    print(i, 'is Below Average')\n"
      ],
      "metadata": {
        "colab": {
          "base_uri": "https://localhost:8080/"
        },
        "id": "JNMOXoY80jO-",
        "outputId": "c552aea2-8175-4e55-e78e-c627d6c11485"
      },
      "id": "JNMOXoY80jO-",
      "execution_count": 11,
      "outputs": [
        {
          "output_type": "stream",
          "name": "stdout",
          "text": [
            "66000.0\n",
            "45000 is Below Average\n",
            "60000 is Below Average\n",
            "75000 is Above Average\n",
            "120000 is Above Average\n",
            "30000 is Below Average\n"
          ]
        }
      ]
    },
    {
      "cell_type": "markdown",
      "source": [
        "#3b\n",
        "- Start with a salary of 50000.\n",
        "- Use a while loop to increase the salary by 5000 each year until it exceeds 80000.\n",
        "- Print the salary after each increment."
      ],
      "metadata": {
        "id": "qWU7tRrV28aW"
      },
      "id": "qWU7tRrV28aW"
    },
    {
      "cell_type": "code",
      "source": [
        "salary = 50000\n",
        "while salary <= 80000:\n",
        "  salary += 5000\n",
        "  print(salary)"
      ],
      "metadata": {
        "colab": {
          "base_uri": "https://localhost:8080/"
        },
        "id": "MBBHT4EG3ECH",
        "outputId": "d2ce9029-bc20-4bcc-8c02-9e4aa8f86190"
      },
      "id": "MBBHT4EG3ECH",
      "execution_count": 72,
      "outputs": [
        {
          "output_type": "stream",
          "name": "stdout",
          "text": [
            "55000\n",
            "60000\n",
            "65000\n",
            "70000\n",
            "75000\n",
            "80000\n",
            "85000\n"
          ]
        }
      ]
    },
    {
      "cell_type": "markdown",
      "source": [
        "#3C\n",
        "- Consider the following dictionary of employee salaries:\n",
        "salaries = {'Alice': 50000, 'Bob': 60000, 'Charlie': 70000, 'Dana': 45000}\n",
        "\n",
        "- Use a for loop to print the names of employees who earn more than 55000.\n"
      ],
      "metadata": {
        "id": "9VbYU0nA5xy6"
      },
      "id": "9VbYU0nA5xy6"
    },
    {
      "cell_type": "code",
      "source": [
        "salaries = {'Alice': 50000, 'Bob': 60000, 'Charlie': 70000, 'Dana': 45000}\n",
        "salaries.keys() #extracting the names\n",
        "salaries.values() #extracting the salaires\n",
        "salaries.items()\n",
        "\n",
        "\n",
        "for key, value in salaries.items():\n",
        "  if value>55000:\n",
        "    print(key)\n",
        "\n",
        "\n"
      ],
      "metadata": {
        "colab": {
          "base_uri": "https://localhost:8080/"
        },
        "id": "WiYJ_dLq55rY",
        "outputId": "d02aa46f-fafd-4ed7-e342-2268a83cbbf3"
      },
      "id": "WiYJ_dLq55rY",
      "execution_count": 17,
      "outputs": [
        {
          "output_type": "stream",
          "name": "stdout",
          "text": [
            "Bob\n",
            "Charlie\n"
          ]
        }
      ]
    },
    {
      "cell_type": "code",
      "source": [
        "salaries.items()"
      ],
      "metadata": {
        "colab": {
          "base_uri": "https://localhost:8080/"
        },
        "id": "mvVNjq873M-V",
        "outputId": "68e8f9ce-50fd-45d5-d100-d451651ac818"
      },
      "id": "mvVNjq873M-V",
      "execution_count": 18,
      "outputs": [
        {
          "output_type": "execute_result",
          "data": {
            "text/plain": [
              "dict_items([('Alice', 50000), ('Bob', 60000), ('Charlie', 70000), ('Dana', 45000)])"
            ]
          },
          "metadata": {},
          "execution_count": 18
        }
      ]
    },
    {
      "cell_type": "markdown",
      "source": [
        "#Q3d\n",
        "\n",
        "data_list = [42, 3.14, 'Data Analytics', True, None, [1, 2, 3], {'key': 'value'}, (4, 5)]\n",
        "\n",
        "Given the list above, print the data type of each element using the type() function in a for loop. In the loop:\n",
        "- Convert the integer 42 to a string.\n",
        "- Convert the float 3.14 to a string, then back to a float.\n",
        "- Convert the boolean True to an integer."
      ],
      "metadata": {
        "id": "qWbtyM7A8_WK"
      },
      "id": "qWbtyM7A8_WK"
    },
    {
      "cell_type": "code",
      "source": [
        "data_list = [42, 3.14, 'Data Analytics', True, None, [1, 2, 3], {'key': 'value'}, (4, 5)]\n",
        "for i in data_list:\n",
        "  if i==42: #have to commpare to direct element and not to the index #\n",
        "    i=str(i) #converting the 42 to an str\n",
        "\n",
        "  elif i==3.14:\n",
        "    i=float(str(i)) #converting 3.14 to a string, then back to a float\n",
        "\n",
        "  elif i is True:\n",
        "    i=int(i) #convrting the True to an int\n",
        "\n",
        "\n",
        "  print(\"value:\", i, \"Type:\", type(i))\n",
        "\n"
      ],
      "metadata": {
        "colab": {
          "base_uri": "https://localhost:8080/"
        },
        "id": "8un-QT5o9G5K",
        "outputId": "372f3b43-55fb-4f98-d036-de4bd66817b3"
      },
      "id": "8un-QT5o9G5K",
      "execution_count": 26,
      "outputs": [
        {
          "output_type": "stream",
          "name": "stdout",
          "text": [
            "value: 42 Type: <class 'str'>\n",
            "value: 3.14 Type: <class 'float'>\n",
            "value: Data Analytics Type: <class 'str'>\n",
            "value: 1 Type: <class 'int'>\n",
            "value: None Type: <class 'NoneType'>\n",
            "value: [1, 2, 3] Type: <class 'list'>\n",
            "value: {'key': 'value'} Type: <class 'dict'>\n",
            "value: (4, 5) Type: <class 'tuple'>\n"
          ]
        }
      ]
    },
    {
      "cell_type": "markdown",
      "source": [
        "# Q4a\n",
        "\n",
        "Consider the variables a and b:\n",
        "\n",
        "a = 10\n",
        "b = 0\n",
        "\n",
        "- Use a try-except block to print the result of a / b.\n",
        "\n",
        "- If there is an error, print 'Cannot divide by zero!'."
      ],
      "metadata": {
        "id": "yHFjzUSQrnkN"
      },
      "id": "yHFjzUSQrnkN"
    },
    {
      "cell_type": "code",
      "source": [
        "a=10\n",
        "b=0\n",
        "\n",
        "try:\n",
        "  val=a/b\n",
        "  print(val)\n",
        "except:\n",
        "  print('Cannot divide by zero!')\n"
      ],
      "metadata": {
        "colab": {
          "base_uri": "https://localhost:8080/"
        },
        "id": "ZncCz0Qhr0Yp",
        "outputId": "8e0ca49b-b581-4e4f-abfe-4768d9d0d1ef"
      },
      "id": "ZncCz0Qhr0Yp",
      "execution_count": 19,
      "outputs": [
        {
          "output_type": "stream",
          "name": "stdout",
          "text": [
            "Cannot divide by zero!\n"
          ]
        }
      ]
    },
    {
      "cell_type": "markdown",
      "source": [
        "#4b\n",
        "Consider the following dictionary of salaries with some missing (None) values:\n",
        "salaries = {'Alice': 50000, 'Bob': None, 'Charlie': 70000, 'Dana': None, 'Eve': 80000}\n",
        "\n",
        "- Use a for loop with a try-except block to calculate the total of non-missing salaries.\n",
        "\n"
      ],
      "metadata": {
        "id": "KgtiitWss_H3"
      },
      "id": "KgtiitWss_H3"
    },
    {
      "cell_type": "code",
      "source": [
        "salaries = {'Alice': 50000, 'Bob': None, 'Charlie': 70000, 'Dana': None, 'Eve': 80000}\n",
        "salaries.values()"
      ],
      "metadata": {
        "colab": {
          "base_uri": "https://localhost:8080/"
        },
        "id": "Jk4yf5ujtIVt",
        "outputId": "73ffd929-0b7d-4921-8cc6-85272e508572"
      },
      "id": "Jk4yf5ujtIVt",
      "execution_count": 21,
      "outputs": [
        {
          "output_type": "execute_result",
          "data": {
            "text/plain": [
              "dict_values([50000, None, 70000, None, 80000])"
            ]
          },
          "metadata": {},
          "execution_count": 21
        }
      ]
    },
    {
      "cell_type": "code",
      "source": [
        "salaries = {'Alice': 50000, 'Bob': None, 'Charlie': 70000, 'Dana': None, 'Eve': 80000}\n",
        "salaries.values()\n",
        "tot_salaries=0\n",
        "\n",
        "for i in salaries.values():\n",
        "  try:\n",
        "    tot_salaries += i\n",
        "  except TypeError as err:\n",
        "    continue\n",
        "\n",
        "tot_salaries"
      ],
      "metadata": {
        "colab": {
          "base_uri": "https://localhost:8080/"
        },
        "id": "1DWRJQLCto3x",
        "outputId": "28c06510-e16b-4895-cbad-0bd204486d0f"
      },
      "id": "1DWRJQLCto3x",
      "execution_count": 20,
      "outputs": [
        {
          "output_type": "execute_result",
          "data": {
            "text/plain": [
              "200000"
            ]
          },
          "metadata": {},
          "execution_count": 20
        }
      ]
    },
    {
      "cell_type": "markdown",
      "source": [
        "#Q5\n",
        "\n",
        "Import the math library and calculate the square root of 81 using the sqrt() function provided by the math library."
      ],
      "metadata": {
        "id": "8vZLCa4PSMKP"
      },
      "id": "8vZLCa4PSMKP"
    },
    {
      "cell_type": "code",
      "source": [
        "import math\n",
        "\n",
        "ans= math.sqrt(81)\n",
        "print(ans)"
      ],
      "metadata": {
        "colab": {
          "base_uri": "https://localhost:8080/"
        },
        "id": "wwRIib5GzeQn",
        "outputId": "0514bc7d-2f9f-4522-d556-2b579f815500"
      },
      "id": "wwRIib5GzeQn",
      "execution_count": 22,
      "outputs": [
        {
          "output_type": "stream",
          "name": "stdout",
          "text": [
            "9.0\n"
          ]
        }
      ]
    },
    {
      "cell_type": "code",
      "source": [],
      "metadata": {
        "id": "gfRGSDEgUWfh"
      },
      "id": "gfRGSDEgUWfh",
      "execution_count": null,
      "outputs": []
    }
  ],
  "metadata": {
    "colab": {
      "provenance": []
    },
    "kernelspec": {
      "display_name": "Python 3",
      "name": "python3"
    },
    "language_info": {
      "name": "python"
    }
  },
  "nbformat": 4,
  "nbformat_minor": 5
}