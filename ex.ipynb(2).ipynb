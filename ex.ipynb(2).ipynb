{
  "nbformat": 4,
  "nbformat_minor": 0,
  "metadata": {
    "colab": {
      "provenance": []
    },
    "kernelspec": {
      "name": "python3",
      "display_name": "Python 3"
    },
    "language_info": {
      "name": "python"
    }
  },
  "cells": [
    {
      "cell_type": "code",
      "execution_count": null,
      "metadata": {
        "id": "nQADbzRuh2QK"
      },
      "outputs": [],
      "source": []
    },
    {
      "cell_type": "code",
      "source": [],
      "metadata": {
        "id": "k4VQKyqviHua"
      },
      "execution_count": null,
      "outputs": []
    },
    {
      "cell_type": "markdown",
      "source": [
        "---\n",
        "title: \"Lecture 3\"\n",
        "author: Carolyn Mack\n",
        "date: January 27, 2025\n",
        "format:\n",
        "  html\n",
        "---\n",
        "a='a'"
      ],
      "metadata": {
        "id": "jv0fEQafh78v"
      }
    }
  ]
}