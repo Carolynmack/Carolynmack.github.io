{
  "cells": [
    {
      "cell_type": "markdown",
      "id": "99a2c4ce",
      "metadata": {
        "id": "99a2c4ce"
      },
      "source": [
        "---\n",
        "title: \"Python Basics\"\n",
        "author: \"Carolyn Mack\"\n",
        "date: \"2025-02-07\"\n",
        "categories: [python]\n",
        "image: image.png\n",
        "  \n",
        "toc: true\n",
        "\n",
        "---"
      ]
    },
    {
      "cell_type": "markdown",
      "id": "d888a05d",
      "metadata": {
        "id": "d888a05d"
      },
      "source": [
        "# Introduction to Python"
      ]
    },
    {
      "cell_type": "markdown",
      "id": "4ced8e71",
      "metadata": {
        "id": "4ced8e71"
      },
      "source": [
        "## What is Python?"
      ]
    },
    {
      "cell_type": "markdown",
      "id": "H9PipRWtEsfO",
      "metadata": {
        "id": "H9PipRWtEsfO"
      },
      "source": [
        "Python is a high-level, interpreted programming language. This is a simple Python code:"
      ]
    },
    {
      "cell_type": "code",
      "execution_count": null,
      "id": "834bc383",
      "metadata": {
        "id": "834bc383"
      },
      "outputs": [],
      "source": [
        "print('Hello, World!')"
      ]
    },
    {
      "cell_type": "markdown",
      "id": "39f9fb03",
      "metadata": {
        "id": "39f9fb03"
      },
      "source": [
        "## Variables and Data Types"
      ]
    },
    {
      "cell_type": "markdown",
      "id": "ld1HKQ0XEvx3",
      "metadata": {
        "id": "ld1HKQ0XEvx3"
      },
      "source": [
        "In Python, variables can store data of different types without explicitly declaring the type.\n",
        "\n",
        "For example:"
      ]
    },
    {
      "cell_type": "code",
      "execution_count": null,
      "id": "e6744d1e",
      "metadata": {
        "colab": {
          "base_uri": "https://localhost:8080/"
        },
        "id": "e6744d1e",
        "outputId": "371456e1-bf0f-448f-ae8d-70c4354ce310"
      },
      "outputs": [
        {
          "data": {
            "text/plain": [
              "10.5"
            ]
          },
          "execution_count": 1,
          "metadata": {},
          "output_type": "execute_result"
        }
      ],
      "source": [
        "integer_variable = 10\n",
        "string_variable = 'Hello'\n",
        "float_variable = 10.5\n",
        "\n",
        "float_variable"
      ]
    },
    {
      "cell_type": "markdown",
      "id": "d01ba669",
      "metadata": {
        "id": "d01ba669"
      },
      "source": [
        "## Control Structures"
      ]
    },
    {
      "cell_type": "markdown",
      "id": "wMeC8exAE2Bv",
      "metadata": {
        "id": "wMeC8exAE2Bv"
      },
      "source": [
        "Python supports the usual logical conditions from mathematics:\n",
        "\n",
        "An Important thing to note is the use of =\n",
        "\n",
        "= is an Assignment operator and NOT an equal sign\n",
        "\n",
        "= will assign the value on the right side to the varaible on the left side.\n"
      ]
    },
    {
      "cell_type": "code",
      "execution_count": null,
      "id": "f74e2029",
      "metadata": {
        "id": "f74e2029"
      },
      "outputs": [],
      "source": [
        "# Equals: a == b\n",
        "# Not Equals: a != b\n",
        "# Less than: a < b\n",
        "# Less than or equal to: a <= b\n",
        "# Greater than: a > b\n",
        "# Greater than or equal to: a >= b\n"
      ]
    },
    {
      "cell_type": "markdown",
      "source": [
        "Different Data Types:\n",
        "\n",
        "\n",
        "*   integers ex: 10\n",
        "*   floats ex: 8.902\n",
        "*   strings ex: \"SUNY Geneseo\"\n",
        "*   booleans ex: True, False\n",
        "*   Nothing ex: None\n",
        "*   List ex: [\"apple\", \"pear\", \"orange\", \"kiwi\"]\n",
        "    -lists are more useful bc they are mutable\n",
        "*   Tuple ex: (\"apple\", \"pear\", \"orange\", \"kiwi\")\n",
        "    -similar to lists but NOT mutable.\n",
        "\n",
        "\n",
        "\n",
        "\n"
      ],
      "metadata": {
        "id": "Thc9ieQEdKAZ"
      },
      "id": "Thc9ieQEdKAZ"
    },
    {
      "cell_type": "code",
      "source": [
        "10 == 20\n",
        "10 =='10' #comparing an int to a string\n",
        "# == is checking if both sides have the same value --> Boolean Expression, T or F"
      ],
      "metadata": {
        "colab": {
          "base_uri": "https://localhost:8080/"
        },
        "id": "UfzZhDwEdu4W",
        "outputId": "28ba0534-87bb-4643-f21b-8623e3533bcb"
      },
      "id": "UfzZhDwEdu4W",
      "execution_count": 1,
      "outputs": [
        {
          "output_type": "execute_result",
          "data": {
            "text/plain": [
              "False"
            ]
          },
          "metadata": {},
          "execution_count": 1
        }
      ]
    },
    {
      "cell_type": "code",
      "source": [],
      "metadata": {
        "id": "Rcf_LIW7c5yC"
      },
      "id": "Rcf_LIW7c5yC",
      "execution_count": null,
      "outputs": []
    },
    {
      "cell_type": "markdown",
      "source": [
        "##Operators\n",
        "  +additon\n",
        "\n",
        "  -subtraction\n",
        "\n",
        "  *multiplication\n",
        "\n",
        "  **powers\n",
        "\n",
        "  /division\n",
        "\n",
        "  //integer division\n",
        "\n",
        "  "
      ],
      "metadata": {
        "id": "q-yMPBw7eh2h"
      },
      "id": "q-yMPBw7eh2h"
    },
    {
      "cell_type": "code",
      "source": [
        "#CW 4.1\n",
        "\n",
        "2**5/(7*(4-2**3))"
      ],
      "metadata": {
        "colab": {
          "base_uri": "https://localhost:8080/"
        },
        "id": "IDINMSuwfAP8",
        "outputId": "ba76985b-8654-4765-9ec5-1bd14d698e47"
      },
      "id": "IDINMSuwfAP8",
      "execution_count": 2,
      "outputs": [
        {
          "output_type": "execute_result",
          "data": {
            "text/plain": [
              "-1.1428571428571428"
            ]
          },
          "metadata": {},
          "execution_count": 2
        }
      ]
    },
    {
      "cell_type": "markdown",
      "id": "T0RPCSNhE88q",
      "metadata": {
        "id": "T0RPCSNhE88q"
      },
      "source": [
        "These conditions can be used in several ways, most commonly in 'if statements' and loops.\n",
        "\n",
        "If statements are used for giving a result if certain condition is ture"
      ]
    },
    {
      "cell_type": "code",
      "execution_count": null,
      "id": "WqMXB9zXE6rB",
      "metadata": {
        "id": "WqMXB9zXE6rB"
      },
      "outputs": [],
      "source": [
        "# if statement:\n",
        "if 5 > 2:\n",
        "    print('Five is greater than two!')\n",
        ""
      ]
    },
    {
      "cell_type": "code",
      "source": [
        "score = 98\n",
        "\n",
        "if score == 100:\n",
        "    print(\"Top marks!\")\n",
        "elif score > 90 and score < 100:\n",
        "    print(\"High score!\")\n",
        "elif score > 10 and score <= 90:\n",
        "    pass\n",
        "else:\n",
        "    print(\"Better luck next time.\")"
      ],
      "metadata": {
        "colab": {
          "base_uri": "https://localhost:8080/"
        },
        "id": "JMWkXHeyiqgR",
        "outputId": "73f774b1-2273-4ab0-d5a9-aa13d435a4b5"
      },
      "id": "JMWkXHeyiqgR",
      "execution_count": 4,
      "outputs": [
        {
          "output_type": "stream",
          "name": "stdout",
          "text": [
            "High score!\n"
          ]
        }
      ]
    },
    {
      "cell_type": "markdown",
      "id": "d4d8f434",
      "metadata": {
        "id": "d4d8f434"
      },
      "source": [
        "## Functions"
      ]
    },
    {
      "cell_type": "markdown",
      "id": "_c3f-aluFEJH",
      "metadata": {
        "id": "_c3f-aluFEJH"
      },
      "source": [
        "A function is a block of code which only runs when it is called.\n",
        "\n",
        "You can pass data, known as parameters, into a function.\n",
        "\n",
        "A function can return data as a result.\n",
        "\n"
      ]
    },
    {
      "cell_type": "code",
      "execution_count": null,
      "id": "311db165",
      "metadata": {
        "id": "311db165"
      },
      "outputs": [],
      "source": [
        "# Defining a function:\n",
        "def my_function():\n",
        "    print('Hello from a function')\n",
        "\n",
        "# Calling a function:\n",
        "my_function()"
      ]
    },
    {
      "cell_type": "markdown",
      "id": "e759a298",
      "metadata": {
        "id": "e759a298"
      },
      "source": [
        "## Lists and Dictionaries"
      ]
    },
    {
      "cell_type": "markdown",
      "id": "rVrAVX_gFQ1t",
      "metadata": {
        "id": "rVrAVX_gFQ1t"
      },
      "source": [
        "A list is a collection which is ordered and changeable.\n",
        "\n",
        "A dictionary is a collection which is unordered, changeable and indexed."
      ]
    },
    {
      "cell_type": "code",
      "execution_count": null,
      "id": "58d29398",
      "metadata": {
        "id": "58d29398"
      },
      "outputs": [],
      "source": [
        "# List example:\n",
        "my_list = ['apple', 'banana', 'cherry']\n",
        "\n",
        "# Dictionary example:\n",
        "my_dict = {'name': 'John', 'age': 36}"
      ]
    },
    {
      "cell_type": "markdown",
      "source": [
        "##List Comprehension:\n",
        "A concise way to create or modify lists\n",
        "\n",
        "Syntax: [expression for item in iterable if condition]\n",
        "\n",
        "ex: squares = [x**2 for x in range(5)]\n",
        "\n",
        "##Dictionary Comprehension:\n",
        "\n",
        "A consicse way to create or modify dictionaries\n",
        "\n",
        "Syntax: {key_expression: value_expression for item in iterable if condition}\n",
        "\n",
        "ex: squares_dict = {x: x**2 for x in range(5)}"
      ],
      "metadata": {
        "id": "QACtXd4Fs60j"
      },
      "id": "QACtXd4Fs60j"
    },
    {
      "cell_type": "markdown",
      "source": [
        "# Ways to Modify a List:\n",
        "\n",
        "- append() : adds item to end of list\n",
        "- remove() : Deletes first occurrence of val in list\n",
        "\n",
        "- del : deletes and item by index or a sice of items\n",
        "\n",
        "- List/Dictionary Comprehension: removes items based on a condition\n",
        "\n",
        "- update(): adds new key- value apirs or updates existing ones\n",
        "\n"
      ],
      "metadata": {
        "id": "SNeibIPjttsO"
      },
      "id": "SNeibIPjttsO"
    },
    {
      "cell_type": "code",
      "source": [
        "my_dict = {'a': 1, 'b': 2}\n",
        "my_dict.update({'c': 3})\n",
        "my_dict.update({'a': 10})\n",
        "my_dict"
      ],
      "metadata": {
        "colab": {
          "base_uri": "https://localhost:8080/"
        },
        "id": "AjCGnknEs6IT",
        "outputId": "4bdff8f2-d4da-45d8-cd84-26b77ccdd690"
      },
      "id": "AjCGnknEs6IT",
      "execution_count": 15,
      "outputs": [
        {
          "output_type": "execute_result",
          "data": {
            "text/plain": [
              "{'a': 10, 'b': 2, 'c': 3}"
            ]
          },
          "metadata": {},
          "execution_count": 15
        }
      ]
    },
    {
      "cell_type": "markdown",
      "source": [
        "## Booleans Conditions ##\n",
        "\n",
        "x==y: is x equal to y?\n",
        "\n",
        "x!=y: is x not equal to y?\n",
        "\n",
        "x>y:  is x greater y?\n",
        "\n",
        "\n",
        "```\n",
        "# This is formatted as code\n",
        "```\n",
        "\n",
        "\n",
        "x>=y: is x greater than or equal to y?"
      ],
      "metadata": {
        "id": "RWrjmf4bfnAq"
      },
      "id": "RWrjmf4bfnAq"
    },
    {
      "cell_type": "code",
      "source": [
        "#CW2:\n",
        "20=='20'\n",
        "#results in false bc a integer (left side) is not the same type as a string (right side)"
      ],
      "metadata": {
        "colab": {
          "base_uri": "https://localhost:8080/"
        },
        "id": "iXsw11nNflMk",
        "outputId": "8f631e0e-227e-494a-9b1f-a5a8c8e80797"
      },
      "id": "iXsw11nNflMk",
      "execution_count": 3,
      "outputs": [
        {
          "output_type": "execute_result",
          "data": {
            "text/plain": [
              "False"
            ]
          },
          "metadata": {},
          "execution_count": 3
        }
      ]
    },
    {
      "cell_type": "markdown",
      "source": [
        "\n"
      ],
      "metadata": {
        "id": "hXbdfkCDgb4_"
      },
      "id": "hXbdfkCDgb4_"
    },
    {
      "cell_type": "markdown",
      "source": [
        "## Slicing Methods\n",
        "\n",
        "Important to remember for lists, Index Starts at 0 not\n",
        "\n",
        "Used when you want to extract a substring from the string\n",
        "\n",
        "In python it is left inclusive and right exlcusive\n",
        "\n",
        "###Format\n",
        "[start : end : stop]\n",
        "\n",
        "[:] --> extracts the entire list\n",
        "\n",
        "##Bulit in Functions\n",
        "len() command gets the length of the string or how many elements are in a list\n",
        "\n",
        "Dot operation:\n",
        "  \n",
        "  -used to access atributes ex:\n",
        "    \n",
        "   (  .split,  . delete,  .add,   .join)\n",
        "\n",
        "\n"
      ],
      "metadata": {
        "id": "eRDq4jvYiv9C"
      },
      "id": "eRDq4jvYiv9C"
    },
    {
      "cell_type": "code",
      "source": [
        "#Slicing Methods practice:\n",
        "# [start: end: step]\n",
        "letters ='abcdeghij'\n",
        "letters[4:]\n"
      ],
      "metadata": {
        "colab": {
          "base_uri": "https://localhost:8080/",
          "height": 36
        },
        "id": "XajYFy6ugbU3",
        "outputId": "ff2cc9a5-d13f-4fc8-f364-d853d8137d4d"
      },
      "id": "XajYFy6ugbU3",
      "execution_count": 5,
      "outputs": [
        {
          "output_type": "execute_result",
          "data": {
            "text/plain": [
              "'eghij'"
            ],
            "application/vnd.google.colaboratory.intrinsic+json": {
              "type": "string"
            }
          },
          "metadata": {},
          "execution_count": 5
        }
      ]
    },
    {
      "cell_type": "code",
      "source": [
        "letters[:3] #it does not include the 3rd element! its left inclusive but RIGHT EXCLUSIVE and remember index starts at 0"
      ],
      "metadata": {
        "colab": {
          "base_uri": "https://localhost:8080/",
          "height": 36
        },
        "id": "j2M5L1HFkWbz",
        "outputId": "c39e8719-56ef-44cb-c8ef-c5e5cbc91760"
      },
      "id": "j2M5L1HFkWbz",
      "execution_count": 6,
      "outputs": [
        {
          "output_type": "execute_result",
          "data": {
            "text/plain": [
              "'abc'"
            ],
            "application/vnd.google.colaboratory.intrinsic+json": {
              "type": "string"
            }
          },
          "metadata": {},
          "execution_count": 6
        }
      ]
    },
    {
      "cell_type": "markdown",
      "source": [],
      "metadata": {
        "id": "10u0rbpymBjT"
      },
      "id": "10u0rbpymBjT"
    },
    {
      "cell_type": "code",
      "source": [
        "#Cw 4.3\n",
        "fare= \"$10.00\"\n",
        "tip= \"2.00$\"\n",
        "tax= \"$ 0.80\"\n",
        "\n",
        "fare=fare[1:] #slicing to exclude the $\n",
        "tip=tip[:-1]\n",
        "tax=tax[2:]\n",
        "\n",
        "fare = float(fare)  #type casting\n",
        "tip=float(tip)\n",
        "tax=float(tax)\n",
        "\n",
        "tot=fare+tip+tax\n",
        "print(\"the total price is\", tot)\n"
      ],
      "metadata": {
        "colab": {
          "base_uri": "https://localhost:8080/"
        },
        "id": "ZWp7oxyymnVn",
        "outputId": "050c2917-410a-457e-9d53-febddfe685dc"
      },
      "id": "ZWp7oxyymnVn",
      "execution_count": 1,
      "outputs": [
        {
          "output_type": "stream",
          "name": "stdout",
          "text": [
            "the total price is 12.8\n"
          ]
        }
      ]
    },
    {
      "cell_type": "markdown",
      "source": [
        "# While Loop\n",
        "\n",
        "  ** While loop is used to execute a block of codde repeatedly until given boolean conidition evaluated is False\n",
        "\n",
        "1) first assign value 1 to count\n",
        "\n",
        "2) The while loop compared to the count will countinue until the condition becomes untrue\n",
        "\n",
        "3) increment the counter by +=1 at the end --> and loop will continue to run if condition is true\n",
        "\n",
        "- break statements are useful to use when you dont know when to stop at an exact time\n",
        "\n",
        "- can use an infinite loop with a break\n",
        "statement\n",
        "\n",
        "- if we dont want to break out of the loop but rather just skip ahead to the next iteration --> use a continue statement"
      ],
      "metadata": {
        "id": "Ex0tvtm2nM_8"
      },
      "id": "Ex0tvtm2nM_8"
    },
    {
      "cell_type": "code",
      "source": [
        "#While Loops\n",
        "count = 1\n",
        "while count <= 5: #this loop keeps iterating until count <=5. After every time the loop runs the count increases by 1\n",
        "    print(count)\n",
        "    count += 1"
      ],
      "metadata": {
        "colab": {
          "base_uri": "https://localhost:8080/"
        },
        "id": "yqrsvtw_osgw",
        "outputId": "9c64ed96-1f3c-4369-8c65-351a1f434be8"
      },
      "id": "yqrsvtw_osgw",
      "execution_count": 2,
      "outputs": [
        {
          "output_type": "stream",
          "name": "stdout",
          "text": [
            "1\n",
            "2\n",
            "3\n",
            "4\n",
            "5\n"
          ]
        }
      ]
    },
    {
      "cell_type": "code",
      "source": [
        "#while loop with a break and continue statement:\n",
        "while True:\n",
        "    value = input(\"Integer, please [q to quit]: \")\n",
        "    if value == 'q': # quit\n",
        "        break\n",
        "    number = int(value)\n",
        "    if number % 2 == 0: # an even number\n",
        "        continue #continues to top without executing the print value.\n",
        "    print(number, \"squared is\", number*number)"
      ],
      "metadata": {
        "colab": {
          "base_uri": "https://localhost:8080/"
        },
        "id": "4DJIkW2UouRm",
        "outputId": "69ed9b44-1b0b-4f6f-ba53-677163caeaa0"
      },
      "id": "4DJIkW2UouRm",
      "execution_count": 4,
      "outputs": [
        {
          "name": "stdout",
          "output_type": "stream",
          "text": [
            "Integer, please [q to quit]: 10\n",
            "Integer, please [q to quit]: 8\n",
            "Integer, please [q to quit]: 5\n",
            "5 squared is 25\n",
            "Integer, please [q to quit]: q\n"
          ]
        }
      ]
    },
    {
      "cell_type": "markdown",
      "source": [
        "# For Loop\n",
        "\n",
        "Useful when we want to loop through a set of things like a strong of test or a list of numbers\n",
        "\n",
        "1) need to assign the string or list for which we will use the in function to run through the word\n",
        "\n",
        "2) loop will continue to execute for the whole list or string as long or for the range we set it to run through\n",
        "\n",
        "** For loop makes it possible to traverse data structures w/o knowing how large they are\n",
        "\n",
        "- just like the while loop you can use continue or break statements.\n",
        "\n",
        "#### Range Function:\n",
        "range function is commonly used with for loops:\n",
        "- range() returns a stream of numbers within a specified range w/o having to create and store a large data structure\n",
        "\n",
        "range (start, stop, step)\n",
        "\n",
        "** remember the end of the range function is exclusive\n"
      ],
      "metadata": {
        "id": "7s6bEXS3o9K5"
      },
      "id": "7s6bEXS3o9K5"
    },
    {
      "cell_type": "code",
      "source": [
        "word= \"carolyn\"\n",
        "for i in word:\n",
        "  print(i)"
      ],
      "metadata": {
        "colab": {
          "base_uri": "https://localhost:8080/"
        },
        "id": "DWXFl4x0pbbI",
        "outputId": "77c1e105-93d6-452e-b53c-ba143749f88f"
      },
      "id": "DWXFl4x0pbbI",
      "execution_count": 7,
      "outputs": [
        {
          "output_type": "stream",
          "name": "stdout",
          "text": [
            "c\n",
            "a\n",
            "r\n",
            "o\n",
            "l\n",
            "y\n",
            "n\n"
          ]
        }
      ]
    },
    {
      "cell_type": "code",
      "source": [
        "for x in range(0, 3): #Remember 3 is exclusive so list will only be [0,1,2]\n",
        "    print(x)"
      ],
      "metadata": {
        "colab": {
          "base_uri": "https://localhost:8080/"
        },
        "id": "gaDx_nF_r8bz",
        "outputId": "7d646916-aca5-4602-f820-e7f45be1fd7f"
      },
      "id": "gaDx_nF_r8bz",
      "execution_count": 8,
      "outputs": [
        {
          "output_type": "stream",
          "name": "stdout",
          "text": [
            "0\n",
            "1\n",
            "2\n"
          ]
        }
      ]
    },
    {
      "cell_type": "code",
      "source": [
        "#CW 4.5:\n",
        "#Use a for loop to print each value of the list [3, 2, 1, 0], one at a time.\n",
        "\n",
        "vals=[3,2,1,0]\n",
        "for i in vals:\n",
        "  print(i)"
      ],
      "metadata": {
        "colab": {
          "base_uri": "https://localhost:8080/"
        },
        "id": "SxsOqRJ5sL5F",
        "outputId": "0f5eb20b-543b-45e9-e99b-6ce4b11226ea"
      },
      "id": "SxsOqRJ5sL5F",
      "execution_count": 9,
      "outputs": [
        {
          "output_type": "stream",
          "name": "stdout",
          "text": [
            "3\n",
            "2\n",
            "1\n",
            "0\n"
          ]
        }
      ]
    },
    {
      "cell_type": "code",
      "source": [
        "#CW 6:\n",
        "guess_me=4\n",
        "number=1\n",
        "while True:\n",
        "  if number<guess_me:\n",
        "    print(\"too low\")\n",
        "  elif number ==guess_me:\n",
        "    print(\"found it!\")\n",
        "    break\n",
        "  else:\n",
        "    print(\"oops\")\n",
        "    break\n",
        "\n",
        "  number +=1"
      ],
      "metadata": {
        "colab": {
          "base_uri": "https://localhost:8080/"
        },
        "id": "H7PWdL_PsfOA",
        "outputId": "d829c188-3469-4cae-9c31-23ea4e043176"
      },
      "id": "H7PWdL_PsfOA",
      "execution_count": 13,
      "outputs": [
        {
          "output_type": "stream",
          "name": "stdout",
          "text": [
            "too low\n",
            "too low\n",
            "too low\n",
            "found it!\n"
          ]
        }
      ]
    },
    {
      "cell_type": "markdown",
      "source": [
        "# Try and Except:\n",
        "\n",
        "Python uses exceptions: code that is executed when an associated error occurs.\n",
        "When we run code that might fail under some circumstances, we also need appropriate exception handlers to intercept any potential errors.\n",
        "\n",
        "Accessing a list or tuple with an out-of-range position, or a dictionary with a nonexistent key\n",
        "\n",
        "-It tries to run lines that it will accept if there are errors in your code."
      ],
      "metadata": {
        "id": "LVqNMeC_uUOe"
      },
      "id": "LVqNMeC_uUOe"
    },
    {
      "cell_type": "code",
      "source": [],
      "metadata": {
        "id": "roFvXGM8u1za"
      },
      "id": "roFvXGM8u1za",
      "execution_count": null,
      "outputs": []
    },
    {
      "cell_type": "code",
      "source": [
        "short_list = [1, 2, 3]\n",
        "position = 5\n",
        "short_list[position] #this will cause an error\n",
        "\n",
        "short_list = [1, 2, 3]\n",
        "position = 5\n",
        "try:\n",
        "    short_list[position]\n",
        "except:\n",
        "    print('Need a position between 0 and', len(short_list)-1, ' but got',\n",
        "    position)"
      ],
      "metadata": {
        "colab": {
          "base_uri": "https://localhost:8080/",
          "height": 211
        },
        "id": "UXOyrdJsuyDk",
        "outputId": "6898b58b-88dd-4a40-eb79-8cfb08a40642"
      },
      "id": "UXOyrdJsuyDk",
      "execution_count": 19,
      "outputs": [
        {
          "output_type": "error",
          "ename": "IndexError",
          "evalue": "list index out of range",
          "traceback": [
            "\u001b[0;31m---------------------------------------------------------------------------\u001b[0m",
            "\u001b[0;31mIndexError\u001b[0m                                Traceback (most recent call last)",
            "\u001b[0;32m<ipython-input-19-e1a63c918921>\u001b[0m in \u001b[0;36m<cell line: 0>\u001b[0;34m()\u001b[0m\n\u001b[1;32m      1\u001b[0m \u001b[0mshort_list\u001b[0m \u001b[0;34m=\u001b[0m \u001b[0;34m[\u001b[0m\u001b[0;36m1\u001b[0m\u001b[0;34m,\u001b[0m \u001b[0;36m2\u001b[0m\u001b[0;34m,\u001b[0m \u001b[0;36m3\u001b[0m\u001b[0;34m]\u001b[0m\u001b[0;34m\u001b[0m\u001b[0;34m\u001b[0m\u001b[0m\n\u001b[1;32m      2\u001b[0m \u001b[0mposition\u001b[0m \u001b[0;34m=\u001b[0m \u001b[0;36m5\u001b[0m\u001b[0;34m\u001b[0m\u001b[0;34m\u001b[0m\u001b[0m\n\u001b[0;32m----> 3\u001b[0;31m \u001b[0mshort_list\u001b[0m\u001b[0;34m[\u001b[0m\u001b[0mposition\u001b[0m\u001b[0;34m]\u001b[0m \u001b[0;31m#this will cause an error\u001b[0m\u001b[0;34m\u001b[0m\u001b[0;34m\u001b[0m\u001b[0m\n\u001b[0m\u001b[1;32m      4\u001b[0m \u001b[0;34m\u001b[0m\u001b[0m\n\u001b[1;32m      5\u001b[0m \u001b[0mshort_list\u001b[0m \u001b[0;34m=\u001b[0m \u001b[0;34m[\u001b[0m\u001b[0;36m1\u001b[0m\u001b[0;34m,\u001b[0m \u001b[0;36m2\u001b[0m\u001b[0;34m,\u001b[0m \u001b[0;36m3\u001b[0m\u001b[0;34m]\u001b[0m\u001b[0;34m\u001b[0m\u001b[0;34m\u001b[0m\u001b[0m\n",
            "\u001b[0;31mIndexError\u001b[0m: list index out of range"
          ]
        }
      ]
    },
    {
      "cell_type": "code",
      "source": [
        "#Use this try block: it allows part of the code to run even if there is an error.\n",
        "#If there is an error and exception is rasied and the code inside the except block runs\n",
        "#--> if there aren't any errors then the except block is skipped.\n",
        "\n",
        "short_list = [1, 2, 3]\n",
        "position = 5\n",
        "try:\n",
        "    short_list[position]\n",
        "except:\n",
        "    print('Need a position between 0 and', len(short_list)-1, ' but got',\n",
        "    position)"
      ],
      "metadata": {
        "colab": {
          "base_uri": "https://localhost:8080/"
        },
        "id": "pVIoBOudu7Ld",
        "outputId": "1b8fa395-db8d-48d0-848d-c076e3f565a1"
      },
      "id": "pVIoBOudu7Ld",
      "execution_count": 20,
      "outputs": [
        {
          "output_type": "stream",
          "name": "stdout",
          "text": [
            "Need a position between 0 and 2  but got 5\n"
          ]
        }
      ]
    },
    {
      "cell_type": "code",
      "source": [
        "short_list = [1, 2, 3]\n",
        "while True:\n",
        "    value = input('Position [q to quit]? ')\n",
        "    if value == 'q':\n",
        "        break\n",
        "    try:\n",
        "        position = int(value)\n",
        "        print(short_list[position])\n",
        "    except IndexError as err: #means that err will be printed\n",
        "        print('Bad index:', position, '-', err)\n",
        "    except Exception as other: #would see if entered $5, etc.. Any other error besides an index error\n",
        "        print('Something else broke:', other)"
      ],
      "metadata": {
        "colab": {
          "base_uri": "https://localhost:8080/"
        },
        "id": "WM2xJumXvauK",
        "outputId": "02a04ed3-ebd1-428b-f974-8f8727482e3d"
      },
      "id": "WM2xJumXvauK",
      "execution_count": 21,
      "outputs": [
        {
          "name": "stdout",
          "output_type": "stream",
          "text": [
            "Position [q to quit]? 4\n",
            "Bad index: 4 - list index out of range\n",
            "Position [q to quit]? 2\n",
            "3\n",
            "Position [q to quit]? -7\n",
            "Bad index: -7 - list index out of range\n",
            "Position [q to quit]? q\n"
          ]
        }
      ]
    },
    {
      "cell_type": "code",
      "source": [
        "##Cw7\n",
        "value=\"$320\"\n",
        "\n",
        "try:\n",
        "  value_n =float(value)\n",
        "except:\n",
        "    print(\"the message\")"
      ],
      "metadata": {
        "colab": {
          "base_uri": "https://localhost:8080/"
        },
        "id": "L1KU25ozv8ru",
        "outputId": "7b0bc67e-1562-442a-c410-41caae4cfc8e"
      },
      "id": "L1KU25ozv8ru",
      "execution_count": 22,
      "outputs": [
        {
          "output_type": "stream",
          "name": "stdout",
          "text": [
            "the message\n"
          ]
        }
      ]
    },
    {
      "cell_type": "markdown",
      "source": [
        "# Importing madules, packages and Libraries:\n",
        "\n",
        "Main libraries are:\n",
        "\n",
        "- Pandas -->\n",
        "- numpy --> np.arry()\n",
        "- matplotlib --> matplotlib.pyplot\n",
        "- seaborn\n",
        "\n",
        "Module: bunch of realted codes svaed in a file with .py extension\n",
        "\n",
        "Package: dir4ectory of a collection of modules\n",
        "\n",
        "Library: collection of packages"
      ],
      "metadata": {
        "id": "kyH80660wGVF"
      },
      "id": "kyH80660wGVF"
    },
    {
      "cell_type": "code",
      "source": [
        "## ways to import modules, packages and libraries\n",
        "\n",
        "# using as keyword\n",
        "import LIBRARY as SOMETHING_SHORT\n",
        "\n",
        "# using from keyword\n",
        "from LIBRARY import FUNCTION, PACKAGE, MODULE\n"
      ],
      "metadata": {
        "colab": {
          "base_uri": "https://localhost:8080/",
          "height": 383
        },
        "id": "-Ucgwsjawz-3",
        "outputId": "4e59d51b-b421-495a-fb26-08ad5224fb8d"
      },
      "id": "-Ucgwsjawz-3",
      "execution_count": 24,
      "outputs": [
        {
          "output_type": "error",
          "ename": "ModuleNotFoundError",
          "evalue": "No module named 'LIBRARY'",
          "traceback": [
            "\u001b[0;31m---------------------------------------------------------------------------\u001b[0m",
            "\u001b[0;31mModuleNotFoundError\u001b[0m                       Traceback (most recent call last)",
            "\u001b[0;32m<ipython-input-24-b3e07c6bc68b>\u001b[0m in \u001b[0;36m<cell line: 0>\u001b[0;34m()\u001b[0m\n\u001b[1;32m      2\u001b[0m \u001b[0;34m\u001b[0m\u001b[0m\n\u001b[1;32m      3\u001b[0m \u001b[0;31m# using as keyword\u001b[0m\u001b[0;34m\u001b[0m\u001b[0;34m\u001b[0m\u001b[0m\n\u001b[0;32m----> 4\u001b[0;31m \u001b[0;32mimport\u001b[0m \u001b[0mLIBRARY\u001b[0m \u001b[0;32mas\u001b[0m \u001b[0mSOMETHING_SHORT\u001b[0m\u001b[0;34m\u001b[0m\u001b[0;34m\u001b[0m\u001b[0m\n\u001b[0m\u001b[1;32m      5\u001b[0m \u001b[0;34m\u001b[0m\u001b[0m\n\u001b[1;32m      6\u001b[0m \u001b[0;31m# using from keyword\u001b[0m\u001b[0;34m\u001b[0m\u001b[0;34m\u001b[0m\u001b[0m\n",
            "\u001b[0;31mModuleNotFoundError\u001b[0m: No module named 'LIBRARY'",
            "",
            "\u001b[0;31m---------------------------------------------------------------------------\u001b[0;32m\nNOTE: If your import is failing due to a missing package, you can\nmanually install dependencies using either !pip or !apt.\n\nTo view examples of installing some common dependencies, click the\n\"Open Examples\" button below.\n\u001b[0;31m---------------------------------------------------------------------------\u001b[0m\n"
          ],
          "errorDetails": {
            "actions": [
              {
                "action": "open_url",
                "actionText": "Open Examples",
                "url": "/notebooks/snippets/importing_libraries.ipynb"
              }
            ]
          }
        }
      ]
    },
    {
      "cell_type": "code",
      "source": [
        "# to install a library LIBRARY on google Colab or Anaconda Python do:\n",
        "pip install LIBRARY"
      ],
      "metadata": {
        "colab": {
          "base_uri": "https://localhost:8080/",
          "height": 106
        },
        "id": "KC7ijUUrxGl-",
        "outputId": "e2889b01-1e40-439d-ead8-9a19d267b513"
      },
      "id": "KC7ijUUrxGl-",
      "execution_count": 23,
      "outputs": [
        {
          "output_type": "error",
          "ename": "SyntaxError",
          "evalue": "invalid syntax (<ipython-input-23-e813870137f8>, line 2)",
          "traceback": [
            "\u001b[0;36m  File \u001b[0;32m\"<ipython-input-23-e813870137f8>\"\u001b[0;36m, line \u001b[0;32m2\u001b[0m\n\u001b[0;31m    pip install LIBRARY\u001b[0m\n\u001b[0m        ^\u001b[0m\n\u001b[0;31mSyntaxError\u001b[0m\u001b[0;31m:\u001b[0m invalid syntax\n"
          ]
        }
      ]
    }
  ],
  "metadata": {
    "colab": {
      "provenance": []
    },
    "kernelspec": {
      "display_name": "Python 3",
      "name": "python3"
    },
    "language_info": {
      "name": "python"
    }
  },
  "nbformat": 4,
  "nbformat_minor": 5
}